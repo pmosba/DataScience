{
 "cells": [
  {
   "cell_type": "code",
   "execution_count": 430,
   "metadata": {},
   "outputs": [
    {
     "name": "stdout",
     "output_type": "stream",
     "text": [
      "             Location     Month  Number of Cases in State  Unemployment Rate  \\\n",
      "0            National  February                        26              0.035   \n",
      "1            National     March                    185906              0.044   \n",
      "2            National     April                    875037              0.147   \n",
      "3            National       May                    713006              0.133   \n",
      "4            National      June                    813983              0.111   \n",
      "5         Atlanta, GA  February                         0              0.033   \n",
      "6         Atlanta, GA    March                       4018              0.044   \n",
      "7         Atlanta, GA     April                     22143              0.127   \n",
      "8         Atlanta, GA       May                     20803              0.103   \n",
      "9         Atlanta, GA      June                     34139              0.076   \n",
      "10        Chicago, IL  February                         3              0.034   \n",
      "11        Chicago, IL     March                      5895              0.047   \n",
      "12        Chicago, IL     April                     46924              0.175   \n",
      "13        Chicago, IL       May                     67342              0.155   \n",
      "14        Chicago, IL      June                     22926              0.164   \n",
      "15    Los Angeles, CA  February                        13              0.041   \n",
      "16    Los Angeles, CA    March                       8067              0.059   \n",
      "17    Los Angeles, CA     April                     42257              0.188   \n",
      "18    Los Angeles, CA       May                     60668              0.191   \n",
      "19    Los Angeles, CA      June                    119651              0.195   \n",
      "20  New York City, NY  February                         0              0.037   \n",
      "21  New York City, NY     March                     83483              0.038   \n",
      "22  New York City, NY     April                    224602              0.152   \n",
      "23  New York City, NY       May                     63397              0.153   \n",
      "24  New York City, NY      June                     22368              0.157   \n",
      "25        Seattle, WA  February                        10              0.030   \n",
      "26        Seattle, WA    March                       5672              0.055   \n",
      "27        Seattle, WA     April                      8939              0.166   \n",
      "28        Seattle, WA       May                      7333              0.152   \n",
      "29        Seattle, WA      June                     11397              0.098   \n",
      "\n",
      "    Population Size-State Population Size-City  Number of Jobs in City  \\\n",
      "0               329240000                    -                 5718756   \n",
      "1               329340000                    -                 5873144   \n",
      "2               329460000                    -                 4609988   \n",
      "3               329590000                    -                 4395536   \n",
      "4               329730000                    -                 4663839   \n",
      "5                10627000               523738                  112076   \n",
      "6                10627000               523738                  114518   \n",
      "7                10627000               523738                   88069   \n",
      "8                10627000               523738                   82506   \n",
      "9                10627000               523738                   87339   \n",
      "10               12659000              2694000                  188442   \n",
      "11               12659000              2694000                  194326   \n",
      "12               12659000              2694000                  149099   \n",
      "13               12659000              2694000                  139267   \n",
      "14               12659000              2694000                  145676   \n",
      "15               39937000              4085000                  204980   \n",
      "16               39937000              4085000                  211243   \n",
      "17               39937000              4085000                  159952   \n",
      "18               39937000              4085000                  147794   \n",
      "19               39937000              4085000                  157474   \n",
      "20               19491000              8622000                  297978   \n",
      "21               19491000              8622000                  310892   \n",
      "22               19491000              8622000                  251120   \n",
      "23               19491000              8622000                  241850   \n",
      "24               19491000              8622000                  237731   \n",
      "25                7797000               783137                  112809   \n",
      "26                7797000               783137                  136564   \n",
      "27                7797000               783137                   85420   \n",
      "28                7797000               783137                   85967   \n",
      "29                7797000               783137                   92074   \n",
      "\n",
      "    Median Pay in City  \n",
      "0                53885  \n",
      "1                54338  \n",
      "2                54783  \n",
      "3                54955  \n",
      "4                55108  \n",
      "5                56313  \n",
      "6                56725  \n",
      "7                56944  \n",
      "8                57082  \n",
      "9                57542  \n",
      "10               59589  \n",
      "11               60058  \n",
      "12               60657  \n",
      "13               60628  \n",
      "14               60749  \n",
      "15               64354  \n",
      "16               65064  \n",
      "17               65362  \n",
      "18               65611  \n",
      "19               65562  \n",
      "20               66218  \n",
      "21               66894  \n",
      "22               67358  \n",
      "23               67502  \n",
      "24               67502  \n",
      "25               65683  \n",
      "26               66645  \n",
      "27               66612  \n",
      "28               54955  \n",
      "29               66820  \n"
     ]
    }
   ],
   "source": [
    "import pandas as pd\n",
    "import numpy as np\n",
    "import matplotlib.pyplot as plt\n",
    "\n",
    "%matplotlib inline\n",
    "\n",
    "import numpy as np\n",
    "\n",
    "\n",
    "import thinkstats2\n",
    "import thinkplot\n",
    "\n",
    "df = pd.read_excel ('COVID19 Employment.xlsx')\n",
    "print (df)"
   ]
  },
  {
   "cell_type": "code",
   "execution_count": 431,
   "metadata": {},
   "outputs": [
    {
     "name": "stdout",
     "output_type": "stream",
     "text": [
      "             Location     Month  Number of Cases in State  Unemployment Rate  \\\n",
      "5         Atlanta, GA  February                         0              0.033   \n",
      "6         Atlanta, GA    March                       4018              0.044   \n",
      "7         Atlanta, GA     April                     22143              0.127   \n",
      "8         Atlanta, GA       May                     20803              0.103   \n",
      "9         Atlanta, GA      June                     34139              0.076   \n",
      "10        Chicago, IL  February                         3              0.034   \n",
      "11        Chicago, IL     March                      5895              0.047   \n",
      "12        Chicago, IL     April                     46924              0.175   \n",
      "13        Chicago, IL       May                     67342              0.155   \n",
      "14        Chicago, IL      June                     22926              0.164   \n",
      "15    Los Angeles, CA  February                        13              0.041   \n",
      "16    Los Angeles, CA    March                       8067              0.059   \n",
      "17    Los Angeles, CA     April                     42257              0.188   \n",
      "18    Los Angeles, CA       May                     60668              0.191   \n",
      "19    Los Angeles, CA      June                    119651              0.195   \n",
      "20  New York City, NY  February                         0              0.037   \n",
      "21  New York City, NY     March                     83483              0.038   \n",
      "22  New York City, NY     April                    224602              0.152   \n",
      "23  New York City, NY       May                     63397              0.153   \n",
      "24  New York City, NY      June                     22368              0.157   \n",
      "25        Seattle, WA  February                        10              0.030   \n",
      "26        Seattle, WA    March                       5672              0.055   \n",
      "27        Seattle, WA     April                      8939              0.166   \n",
      "28        Seattle, WA       May                      7333              0.152   \n",
      "29        Seattle, WA      June                     11397              0.098   \n",
      "\n",
      "    Population Size-State Population Size-City  Number of Jobs in City  \\\n",
      "5                10627000               523738                  112076   \n",
      "6                10627000               523738                  114518   \n",
      "7                10627000               523738                   88069   \n",
      "8                10627000               523738                   82506   \n",
      "9                10627000               523738                   87339   \n",
      "10               12659000              2694000                  188442   \n",
      "11               12659000              2694000                  194326   \n",
      "12               12659000              2694000                  149099   \n",
      "13               12659000              2694000                  139267   \n",
      "14               12659000              2694000                  145676   \n",
      "15               39937000              4085000                  204980   \n",
      "16               39937000              4085000                  211243   \n",
      "17               39937000              4085000                  159952   \n",
      "18               39937000              4085000                  147794   \n",
      "19               39937000              4085000                  157474   \n",
      "20               19491000              8622000                  297978   \n",
      "21               19491000              8622000                  310892   \n",
      "22               19491000              8622000                  251120   \n",
      "23               19491000              8622000                  241850   \n",
      "24               19491000              8622000                  237731   \n",
      "25                7797000               783137                  112809   \n",
      "26                7797000               783137                  136564   \n",
      "27                7797000               783137                   85420   \n",
      "28                7797000               783137                   85967   \n",
      "29                7797000               783137                   92074   \n",
      "\n",
      "    Median Pay in City  \n",
      "5                56313  \n",
      "6                56725  \n",
      "7                56944  \n",
      "8                57082  \n",
      "9                57542  \n",
      "10               59589  \n",
      "11               60058  \n",
      "12               60657  \n",
      "13               60628  \n",
      "14               60749  \n",
      "15               64354  \n",
      "16               65064  \n",
      "17               65362  \n",
      "18               65611  \n",
      "19               65562  \n",
      "20               66218  \n",
      "21               66894  \n",
      "22               67358  \n",
      "23               67502  \n",
      "24               67502  \n",
      "25               65683  \n",
      "26               66645  \n",
      "27               66612  \n",
      "28               54955  \n",
      "29               66820  \n"
     ]
    }
   ],
   "source": [
    "#city data\n",
    "dfcity= df[(df['Location']!=\"National\")]\n",
    "print(dfcity)"
   ]
  },
  {
   "cell_type": "code",
   "execution_count": 432,
   "metadata": {},
   "outputs": [
    {
     "name": "stdout",
     "output_type": "stream",
     "text": [
      "[[<matplotlib.axes._subplots.AxesSubplot object at 0x122343350>]]\n"
     ]
    },
    {
     "data": {
      "image/png": "[encoded data removed]",
      "text/plain": [
       "<Figure size 1440x720 with 1 Axes>"
      ]
     },
     "metadata": {
      "needs_background": "light"
     },
     "output_type": "display_data"
    }
   ],
   "source": [
    "#median pay hist\n",
    "histogram=df.hist(column='Median Pay in City',figsize=[20,10],bins=20)\n",
    "print(histogram)"
   ]
  },
  {
   "cell_type": "code",
   "execution_count": 433,
   "metadata": {},
   "outputs": [
    {
     "name": "stdout",
     "output_type": "stream",
     "text": [
      "[[<matplotlib.axes._subplots.AxesSubplot object at 0x123cbd510>]]\n"
     ]
    },
    {
     "data": {
      "image/png": "[encoded data removed]",
      "text/plain": [
       "<Figure size 1440x720 with 1 Axes>"
      ]
     },
     "metadata": {
      "needs_background": "light"
     },
     "output_type": "display_data"
    }
   ],
   "source": [
    "#cases hist\n",
    "histogram=dfcity.hist(column='Number of Cases in State',figsize=[20,10],bins=20)\n",
    "print(histogram)"
   ]
  },
  {
   "cell_type": "code",
   "execution_count": 434,
   "metadata": {},
   "outputs": [
    {
     "name": "stdout",
     "output_type": "stream",
     "text": [
      "[[<matplotlib.axes._subplots.AxesSubplot object at 0x1239c27d0>]]\n"
     ]
    },
    {
     "data": {
      "image/png": "[encoded data removed]",
      "text/plain": [
       "<Figure size 1440x720 with 1 Axes>"
      ]
     },
     "metadata": {
      "needs_background": "light"
     },
     "output_type": "display_data"
    }
   ],
   "source": [
    "#jobs hist\n",
    "histogram=dfcity.hist(column='Number of Jobs in City',figsize=[20,10],bins=10)\n",
    "print(histogram)"
   ]
  },
  {
   "cell_type": "code",
   "execution_count": 435,
   "metadata": {},
   "outputs": [
    {
     "name": "stdout",
     "output_type": "stream",
     "text": [
      "[[<matplotlib.axes._subplots.AxesSubplot object at 0x123cbde50>]]\n"
     ]
    },
    {
     "data": {
      "image/png": "[encoded data removed]",
      "text/plain": [
       "<Figure size 1440x720 with 1 Axes>"
      ]
     },
     "metadata": {
      "needs_background": "light"
     },
     "output_type": "display_data"
    }
   ],
   "source": [
    "#state hist\n",
    "histogram=dfcity.hist(column='Population Size-State',figsize=[20,10],bins=10)\n",
    "print(histogram)"
   ]
  },
  {
   "cell_type": "code",
   "execution_count": 436,
   "metadata": {},
   "outputs": [
    {
     "name": "stdout",
     "output_type": "stream",
     "text": [
      "AxesSubplot(0.125,0.125;0.775x0.755)\n"
     ]
    },
    {
     "data": {
      "image/png": "[encoded data removed]",
      "text/plain": [
       "<Figure size 1440x720 with 1 Axes>"
      ]
     },
     "metadata": {
      "needs_background": "light"
     },
     "output_type": "display_data"
    }
   ],
   "source": [
    "#city hist\n",
    "city=df['Population Size-City']\n",
    "citypop=(city.tail(25))\n",
    "histogram=citypop.hist(figsize=[20,10],bins=5)\n",
    "print(histogram)"
   ]
  },
  {
   "cell_type": "code",
   "execution_count": 437,
   "metadata": {},
   "outputs": [
    {
     "name": "stdout",
     "output_type": "stream",
     "text": [
      "AxesSubplot(0.125,0.125;0.775x0.755)\n"
     ]
    },
    {
     "data": {
      "image/png": "[encoded data removed]",
      "text/plain": [
       "<Figure size 1440x720 with 1 Axes>"
      ]
     },
     "metadata": {
      "needs_background": "light"
     },
     "output_type": "display_data"
    }
   ],
   "source": [
    "#unemployment hist\n",
    "city=df['Unemployment Rate']\n",
    "city=(city.tail(25))\n",
    "histogram=city.hist(figsize=[20,10],bins=5)\n",
    "print(histogram)"
   ]
  },
  {
   "cell_type": "code",
   "execution_count": 438,
   "metadata": {},
   "outputs": [
    {
     "name": "stdout",
     "output_type": "stream",
     "text": [
      "Population of Nation: count    5.000000e+00\n",
      "mean     3.294720e+08\n",
      "std      1.948589e+05\n",
      "min      3.292400e+08\n",
      "25%      3.293400e+08\n",
      "50%      3.294600e+08\n",
      "75%      3.295900e+08\n",
      "max      3.297300e+08\n",
      "Name: Population Size-State, dtype: float64\n",
      "Number of Cases in Nation: count         5.00000\n",
      "mean     517591.60000\n",
      "std      397395.06516\n",
      "min          26.00000\n",
      "25%      185906.00000\n",
      "50%      713006.00000\n",
      "75%      813983.00000\n",
      "max      875037.00000\n",
      "Name: Number of Cases in State, dtype: float64\n",
      "Number of Job Openings in Nation: count    5.000000e+00\n",
      "mean     5.052253e+06\n",
      "std      6.884456e+05\n",
      "min      4.395536e+06\n",
      "25%      4.609988e+06\n",
      "50%      4.663839e+06\n",
      "75%      5.718756e+06\n",
      "max      5.873144e+06\n",
      "Name: Number of Jobs in City, dtype: float64\n",
      "Median Pay in Nation: count        5.000000\n",
      "mean     54613.800000\n",
      "std        499.122931\n",
      "min      53885.000000\n",
      "25%      54338.000000\n",
      "50%      54783.000000\n",
      "75%      54955.000000\n",
      "max      55108.000000\n",
      "Name: Median Pay in City, dtype: float64\n",
      "Unemployment Rate in Nation: count    5.000000\n",
      "mean     0.094000\n",
      "std      0.051478\n",
      "min      0.035000\n",
      "25%      0.044000\n",
      "50%      0.111000\n",
      "75%      0.133000\n",
      "max      0.147000\n",
      "Name: Unemployment Rate, dtype: float64\n"
     ]
    }
   ],
   "source": [
    "#national averages\n",
    "nat=df.head(5)\n",
    "\n",
    "natpop=nat['Population Size-State']\n",
    "print(\"Population of Nation:\",natpop.describe()) #national pop\n",
    "\n",
    "natcases=nat['Number of Cases in State']\n",
    "print(\"Number of Cases in Nation:\",natcases.describe()) #national number of cases\n",
    "\n",
    "natopen=nat['Number of Jobs in City']\n",
    "print(\"Number of Job Openings in Nation:\",natopen.describe()) #national openings\n",
    "\n",
    "natpay=nat['Median Pay in City']\n",
    "print(\"Median Pay in Nation:\",natpay.describe()) #national pay\n",
    "\n",
    "natun=nat['Unemployment Rate']\n",
    "print(\"Unemployment Rate in Nation:\",natun.describe()) #national unemployment\n"
   ]
  },
  {
   "cell_type": "code",
   "execution_count": 439,
   "metadata": {},
   "outputs": [
    {
     "name": "stdout",
     "output_type": "stream",
     "text": [
      "Population of Cities: count    2.500000e+01\n",
      "mean     3.341575e+06\n",
      "std      3.004883e+06\n",
      "min      5.237380e+05\n",
      "25%      7.831370e+05\n",
      "50%      2.694000e+06\n",
      "75%      4.085000e+06\n",
      "max      8.622000e+06\n",
      "Name: Population Size-City, dtype: float64\n",
      "Number of Cases in States: count        25.000000\n",
      "mean      35282.000000\n",
      "std       50149.684867\n",
      "min           0.000000\n",
      "25%        5672.000000\n",
      "50%       20803.000000\n",
      "75%       46924.000000\n",
      "max      224602.000000\n",
      "Name: Number of Cases in State, dtype: float64\n",
      "Number of Job Openings in Cities: count        25.000000\n",
      "mean     161406.640000\n",
      "std       67578.447451\n",
      "min       82506.000000\n",
      "25%      112076.000000\n",
      "50%      147794.000000\n",
      "75%      204980.000000\n",
      "max      310892.000000\n",
      "Name: Number of Jobs in City, dtype: float64\n",
      "Median Pay in Cities: count       25.000000\n",
      "mean     62737.160000\n",
      "std       4297.632349\n",
      "min      54955.000000\n",
      "25%      59589.000000\n",
      "50%      65064.000000\n",
      "75%      66612.000000\n",
      "max      67502.000000\n",
      "Name: Median Pay in City, dtype: float64\n",
      "Unemployment Rate in Cities: count    25.000000\n",
      "mean      0.106800\n",
      "std       0.060714\n",
      "min       0.030000\n",
      "25%       0.044000\n",
      "50%       0.103000\n",
      "75%       0.157000\n",
      "max       0.195000\n",
      "Name: Unemployment Rate, dtype: float64\n"
     ]
    }
   ],
   "source": [
    "#city averages\n",
    "city=df.tail(25)\n",
    "\n",
    "citypop=city['Population Size-City']\n",
    "citypop=citypop.astype('float64')\n",
    "print(\"Population of Cities:\",citypop.describe())\n",
    "\n",
    "citycases=city['Number of Cases in State']\n",
    "print(\"Number of Cases in States:\",citycases.describe()) #city average of cases\n",
    "\n",
    "cityopen=city['Number of Jobs in City']\n",
    "print(\"Number of Job Openings in Cities:\",cityopen.describe()) #cities average openings\n",
    "\n",
    "citypay=city['Median Pay in City']\n",
    "print(\"Median Pay in Cities:\",citypay.describe()) #city pay\n",
    "\n",
    "cityun=city['Unemployment Rate']\n",
    "print(\"Unemployment Rate in Cities:\",cityun.describe()) #city pay"
   ]
  },
  {
   "cell_type": "code",
   "execution_count": 440,
   "metadata": {},
   "outputs": [
    {
     "name": "stdout",
     "output_type": "stream",
     "text": [
      "Number of Cases in Georgia: count        5.000000\n",
      "mean     16220.600000\n",
      "std      14045.938748\n",
      "min          0.000000\n",
      "25%       4018.000000\n",
      "50%      20803.000000\n",
      "75%      22143.000000\n",
      "max      34139.000000\n",
      "Name: Number of Cases in State, dtype: float64\n",
      "Number of Job Openings in Atlanta: count         5.000000\n",
      "mean      96901.600000\n",
      "std       15143.409501\n",
      "min       82506.000000\n",
      "25%       87339.000000\n",
      "50%       88069.000000\n",
      "75%      112076.000000\n",
      "max      114518.000000\n",
      "Name: Number of Jobs in City, dtype: float64\n",
      "Median Pay in Atlanta: count        5.000000\n",
      "mean     56921.200000\n",
      "std        452.816409\n",
      "min      56313.000000\n",
      "25%      56725.000000\n",
      "50%      56944.000000\n",
      "75%      57082.000000\n",
      "max      57542.000000\n",
      "Name: Median Pay in City, dtype: float64\n",
      "Unemployment Rate in Atlanta: count    5.000000\n",
      "mean     0.076600\n",
      "std      0.039374\n",
      "min      0.033000\n",
      "25%      0.044000\n",
      "50%      0.076000\n",
      "75%      0.103000\n",
      "max      0.127000\n",
      "Name: Unemployment Rate, dtype: float64\n"
     ]
    }
   ],
   "source": [
    "#atlanta\n",
    "atlanta=df.loc[df['Location']=='Atlanta, GA']\n",
    "\n",
    "atlantacases=atlanta['Number of Cases in State']\n",
    "print(\"Number of Cases in Georgia:\",atlantacases.describe())\n",
    "\n",
    "atlantaopen=atlanta['Number of Jobs in City']\n",
    "print(\"Number of Job Openings in Atlanta:\",atlantaopen.describe())\n",
    "\n",
    "atlantapay=atlanta['Median Pay in City']\n",
    "print(\"Median Pay in Atlanta:\",atlantapay.describe())\n",
    "\n",
    "atlantaun=atlanta['Unemployment Rate']\n",
    "print(\"Unemployment Rate in Atlanta:\",atlantaun.describe())\n"
   ]
  },
  {
   "cell_type": "code",
   "execution_count": 441,
   "metadata": {},
   "outputs": [
    {
     "name": "stdout",
     "output_type": "stream",
     "text": [
      "Number of Cases in Illinois: count        5.00000\n",
      "mean     28618.00000\n",
      "std      28294.03484\n",
      "min          3.00000\n",
      "25%       5895.00000\n",
      "50%      22926.00000\n",
      "75%      46924.00000\n",
      "max      67342.00000\n",
      "Name: Number of Cases in State, dtype: float64\n",
      "Number of Job Openings in Chicago: count         5.000000\n",
      "mean     163362.000000\n",
      "std       25906.430119\n",
      "min      139267.000000\n",
      "25%      145676.000000\n",
      "50%      149099.000000\n",
      "75%      188442.000000\n",
      "max      194326.000000\n",
      "Name: Number of Jobs in City, dtype: float64\n",
      "Median Pay in Chicago: count        5.000000\n",
      "mean     60336.200000\n",
      "std        498.539567\n",
      "min      59589.000000\n",
      "25%      60058.000000\n",
      "50%      60628.000000\n",
      "75%      60657.000000\n",
      "max      60749.000000\n",
      "Name: Median Pay in City, dtype: float64\n",
      "Unemployment Rate in Chicago: count    5.000000\n",
      "mean     0.115000\n",
      "std      0.068531\n",
      "min      0.034000\n",
      "25%      0.047000\n",
      "50%      0.155000\n",
      "75%      0.164000\n",
      "max      0.175000\n",
      "Name: Unemployment Rate, dtype: float64\n"
     ]
    }
   ],
   "source": [
    "#chicago\n",
    "chicago=df.loc[df['Location']=='Chicago, IL']\n",
    "\n",
    "chicagocases=chicago['Number of Cases in State']\n",
    "print(\"Number of Cases in Illinois:\",chicagocases.describe())\n",
    "\n",
    "chicagoopen=chicago['Number of Jobs in City']\n",
    "print(\"Number of Job Openings in Chicago:\",chicagoopen.describe())\n",
    "\n",
    "chicagopay=chicago['Median Pay in City']\n",
    "print(\"Median Pay in Chicago:\",chicagopay.describe())\n",
    "\n",
    "chicagoun=chicago['Unemployment Rate']\n",
    "print(\"Unemployment Rate in Chicago:\",chicagoun.describe())\n"
   ]
  },
  {
   "cell_type": "code",
   "execution_count": 442,
   "metadata": {},
   "outputs": [
    {
     "name": "stdout",
     "output_type": "stream",
     "text": [
      "Number of Cases in New York: count         5.000000\n",
      "mean      78770.000000\n",
      "std       87908.208129\n",
      "min           0.000000\n",
      "25%       22368.000000\n",
      "50%       63397.000000\n",
      "75%       83483.000000\n",
      "max      224602.000000\n",
      "Name: Number of Cases in State, dtype: float64\n",
      "Number of Job Openings in New York City: count         5.000000\n",
      "mean     267914.200000\n",
      "std       33997.560945\n",
      "min      237731.000000\n",
      "25%      241850.000000\n",
      "50%      251120.000000\n",
      "75%      297978.000000\n",
      "max      310892.000000\n",
      "Name: Number of Jobs in City, dtype: float64\n",
      "Median Pay in New York City: count        5.000000\n",
      "mean     67094.800000\n",
      "std        549.999273\n",
      "min      66218.000000\n",
      "25%      66894.000000\n",
      "50%      67358.000000\n",
      "75%      67502.000000\n",
      "max      67502.000000\n",
      "Name: Median Pay in City, dtype: float64\n",
      "Unemployment Rate in New York: count    5.000000\n",
      "mean     0.107400\n",
      "std      0.063838\n",
      "min      0.037000\n",
      "25%      0.038000\n",
      "50%      0.152000\n",
      "75%      0.153000\n",
      "max      0.157000\n",
      "Name: Unemployment Rate, dtype: float64\n"
     ]
    }
   ],
   "source": [
    "#nyc\n",
    "ny=df.loc[df['Location']=='New York City, NY']\n",
    "\n",
    "nycases=ny['Number of Cases in State']\n",
    "print(\"Number of Cases in New York:\",nycases.describe())\n",
    "\n",
    "nyopen=ny['Number of Jobs in City']\n",
    "print(\"Number of Job Openings in New York City:\",nyopen.describe())\n",
    "\n",
    "nypay=ny['Median Pay in City']\n",
    "print(\"Median Pay in New York City:\",nypay.describe())\n",
    "\n",
    "nyun=ny['Unemployment Rate']\n",
    "print(\"Unemployment Rate in New York:\",nyun.describe())\n"
   ]
  },
  {
   "cell_type": "code",
   "execution_count": 443,
   "metadata": {},
   "outputs": [
    {
     "name": "stdout",
     "output_type": "stream",
     "text": [
      "Number of Cases in California: count         5.000000\n",
      "mean      46131.200000\n",
      "std       47977.235917\n",
      "min          13.000000\n",
      "25%        8067.000000\n",
      "50%       42257.000000\n",
      "75%       60668.000000\n",
      "max      119651.000000\n",
      "Name: Number of Cases in State, dtype: float64\n",
      "Number of Job Openings in Los Angeles: count         5.000000\n",
      "mean     176288.600000\n",
      "std       29486.532584\n",
      "min      147794.000000\n",
      "25%      157474.000000\n",
      "50%      159952.000000\n",
      "75%      204980.000000\n",
      "max      211243.000000\n",
      "Name: Number of Jobs in City, dtype: float64\n",
      "Median Pay in Los Angeles: count        5.000000\n",
      "mean     65190.600000\n",
      "std        514.776456\n",
      "min      64354.000000\n",
      "25%      65064.000000\n",
      "50%      65362.000000\n",
      "75%      65562.000000\n",
      "max      65611.000000\n",
      "Name: Median Pay in City, dtype: float64\n",
      "Unemployment Rate in Los Angeles: count    5.000000\n",
      "mean     0.134800\n",
      "std      0.077712\n",
      "min      0.041000\n",
      "25%      0.059000\n",
      "50%      0.188000\n",
      "75%      0.191000\n",
      "max      0.195000\n",
      "Name: Unemployment Rate, dtype: float64\n"
     ]
    }
   ],
   "source": [
    "#los angeles\n",
    "la=df.loc[df['Location']=='Los Angeles, CA']\n",
    "\n",
    "lacases=la['Number of Cases in State']\n",
    "print(\"Number of Cases in California:\",lacases.describe())\n",
    "\n",
    "laopen=la['Number of Jobs in City']\n",
    "print(\"Number of Job Openings in Los Angeles:\",laopen.describe())\n",
    "\n",
    "lapay=la['Median Pay in City']\n",
    "print(\"Median Pay in Los Angeles:\",lapay.describe())\n",
    "\n",
    "laun=la['Unemployment Rate']\n",
    "print(\"Unemployment Rate in Los Angeles:\",laun.describe())\n"
   ]
  },
  {
   "cell_type": "code",
   "execution_count": 444,
   "metadata": {},
   "outputs": [
    {
     "name": "stdout",
     "output_type": "stream",
     "text": [
      "Number of Cases in Washington: count        5.000000\n",
      "mean      6670.200000\n",
      "std       4280.305562\n",
      "min         10.000000\n",
      "25%       5672.000000\n",
      "50%       7333.000000\n",
      "75%       8939.000000\n",
      "max      11397.000000\n",
      "Name: Number of Cases in State, dtype: float64\n",
      "Number of Job Openings in Seattle: count         5.000000\n",
      "mean     102566.800000\n",
      "std       22024.856588\n",
      "min       85420.000000\n",
      "25%       85967.000000\n",
      "50%       92074.000000\n",
      "75%      112809.000000\n",
      "max      136564.000000\n",
      "Name: Number of Jobs in City, dtype: float64\n",
      "Median Pay in Seattle: count        5.000000\n",
      "mean     64143.000000\n",
      "std       5155.415551\n",
      "min      54955.000000\n",
      "25%      65683.000000\n",
      "50%      66612.000000\n",
      "75%      66645.000000\n",
      "max      66820.000000\n",
      "Name: Median Pay in City, dtype: float64\n",
      "Unemployment Rate in Seattle: count    5.000000\n",
      "mean     0.100200\n",
      "std      0.059137\n",
      "min      0.030000\n",
      "25%      0.055000\n",
      "50%      0.098000\n",
      "75%      0.152000\n",
      "max      0.166000\n",
      "Name: Unemployment Rate, dtype: float64\n"
     ]
    }
   ],
   "source": [
    "#seattle\n",
    "seattle=df.loc[df['Location']=='Seattle, WA']\n",
    "\n",
    "seattlecases=seattle['Number of Cases in State']\n",
    "print(\"Number of Cases in Washington:\",seattlecases.describe())\n",
    "\n",
    "seattleopen=seattle['Number of Jobs in City']\n",
    "print(\"Number of Job Openings in Seattle:\",seattleopen.describe())\n",
    "\n",
    "seattlepay=seattle['Median Pay in City']\n",
    "print(\"Median Pay in Seattle:\",seattlepay.describe())\n",
    "\n",
    "seattleun=seattle['Unemployment Rate']\n",
    "print(\"Unemployment Rate in Seattle:\",seattleun.describe())\n"
   ]
  },
  {
   "cell_type": "code",
   "execution_count": 445,
   "metadata": {},
   "outputs": [
    {
     "name": "stdout",
     "output_type": "stream",
     "text": [
      "February Number of Cases: count     6.000000\n",
      "mean      8.666667\n",
      "std      10.033278\n",
      "min       0.000000\n",
      "25%       0.750000\n",
      "50%       6.500000\n",
      "75%      12.250000\n",
      "max      26.000000\n",
      "Name: Number of Cases in State, dtype: float64\n",
      "February Number of Job Opening: count    6.000000e+00\n",
      "mean     1.105840e+06\n",
      "std      2.260906e+06\n",
      "min      1.120760e+05\n",
      "25%      1.317172e+05\n",
      "50%      1.967110e+05\n",
      "75%      2.747285e+05\n",
      "max      5.718756e+06\n",
      "Name: Number of Jobs in City, dtype: float64\n",
      "February Median Pay: count        6.00000\n",
      "mean     61007.00000\n",
      "std       5195.94361\n",
      "min      53885.00000\n",
      "25%      57132.00000\n",
      "50%      61971.50000\n",
      "75%      65350.75000\n",
      "max      66218.00000\n",
      "Name: Median Pay in City, dtype: float64\n",
      "Unemployment Rate in February: count    6.000000\n",
      "mean     0.035000\n",
      "std      0.003742\n",
      "min      0.030000\n",
      "25%      0.033250\n",
      "50%      0.034500\n",
      "75%      0.036500\n",
      "max      0.041000\n",
      "Name: Unemployment Rate, dtype: float64\n"
     ]
    }
   ],
   "source": [
    "#february averages\n",
    "feb=df.loc[df['Month']=='February']\n",
    "feb=feb.tail(25)\n",
    "\n",
    "febcases=feb['Number of Cases in State']\n",
    "print(\"February Number of Cases:\",febcases.describe())\n",
    "\n",
    "febopen=feb['Number of Jobs in City']\n",
    "print(\"February Number of Job Opening:\",febopen.describe())\n",
    "\n",
    "febpay=feb['Median Pay in City']\n",
    "print(\"February Median Pay:\",febpay.describe())\n",
    "\n",
    "febun=feb['Unemployment Rate']\n",
    "print(\"Unemployment Rate in February:\",febun.describe())"
   ]
  },
  {
   "cell_type": "code",
   "execution_count": 446,
   "metadata": {},
   "outputs": [
    {
     "name": "stdout",
     "output_type": "stream",
     "text": [
      "Number of Cases in March: count         3.000000\n",
      "mean      91761.333333\n",
      "std       90290.576099\n",
      "min        5895.000000\n",
      "25%       44689.000000\n",
      "50%       83483.000000\n",
      "75%      134694.500000\n",
      "max      185906.000000\n",
      "Name: Number of Cases in State, dtype: float64\n",
      "Number of Job Openings in March: count    3.000000e+00\n",
      "mean     2.126121e+06\n",
      "std      3.245541e+06\n",
      "min      1.943260e+05\n",
      "25%      2.526090e+05\n",
      "50%      3.108920e+05\n",
      "75%      3.092018e+06\n",
      "max      5.873144e+06\n",
      "Name: Number of Jobs in City, dtype: float64\n",
      "Median Pay in March: count        3.000000\n",
      "mean     60430.000000\n",
      "std       6286.260574\n",
      "min      54338.000000\n",
      "25%      57198.000000\n",
      "50%      60058.000000\n",
      "75%      63476.000000\n",
      "max      66894.000000\n",
      "Name: Median Pay in City, dtype: float64\n",
      "Unemployment Rate in March: count    3.000000\n",
      "mean     0.043000\n",
      "std      0.004583\n",
      "min      0.038000\n",
      "25%      0.041000\n",
      "50%      0.044000\n",
      "75%      0.045500\n",
      "max      0.047000\n",
      "Name: Unemployment Rate, dtype: float64\n"
     ]
    }
   ],
   "source": [
    "#march averages\n",
    "mar=df.loc[df['Month']=='March']\n",
    "mar=mar.tail(25)\n",
    "\n",
    "marcases=mar['Number of Cases in State']\n",
    "print(\"Number of Cases in March:\",marcases.describe())\n",
    "\n",
    "maropen=mar['Number of Jobs in City']\n",
    "print(\"Number of Job Openings in March:\",maropen.describe())\n",
    "\n",
    "marpay=mar['Median Pay in City']\n",
    "print(\"Median Pay in March:\",marpay.describe())\n",
    "\n",
    "marun=mar['Unemployment Rate']\n",
    "print(\"Unemployment Rate in March:\",marun.describe())\n"
   ]
  },
  {
   "cell_type": "code",
   "execution_count": 447,
   "metadata": {},
   "outputs": [
    {
     "name": "stdout",
     "output_type": "stream",
     "text": [
      "Number of Cases in April: count         6.000000\n",
      "mean     203317.000000\n",
      "std      338427.755609\n",
      "min        8939.000000\n",
      "25%       27171.500000\n",
      "50%       44590.500000\n",
      "75%      180182.500000\n",
      "max      875037.000000\n",
      "Name: Number of Cases in State, dtype: float64\n",
      "Number of Job Openings in April: count    6.000000e+00\n",
      "mean     8.906080e+05\n",
      "std      1.823119e+06\n",
      "min      8.542000e+04\n",
      "25%      1.033265e+05\n",
      "50%      1.545255e+05\n",
      "75%      2.283280e+05\n",
      "max      4.609988e+06\n",
      "Name: Number of Jobs in City, dtype: float64\n",
      "Median Pay in April: count        6.000000\n",
      "mean     61952.666667\n",
      "std       5305.095349\n",
      "min      54783.000000\n",
      "25%      57872.250000\n",
      "50%      63009.500000\n",
      "75%      66299.500000\n",
      "max      67358.000000\n",
      "Name: Median Pay in City, dtype: float64\n",
      "Unemployment Rate in April: count    6.000000\n",
      "mean     0.159167\n",
      "std      0.021739\n",
      "min      0.127000\n",
      "25%      0.148250\n",
      "50%      0.159000\n",
      "75%      0.172750\n",
      "max      0.188000\n",
      "Name: Unemployment Rate, dtype: float64\n"
     ]
    }
   ],
   "source": [
    "#april averages\n",
    "apr=df.loc[df['Month']=='April']\n",
    "apr=apr.tail(25)\n",
    "\n",
    "aprcases=apr['Number of Cases in State']\n",
    "print(\"Number of Cases in April:\",aprcases.describe())\n",
    "\n",
    "apropen=apr['Number of Jobs in City']\n",
    "print(\"Number of Job Openings in April:\",apropen.describe())\n",
    "\n",
    "aprpay=apr['Median Pay in City']\n",
    "print(\"Median Pay in April:\",aprpay.describe())\n",
    "\n",
    "aprun=apr['Unemployment Rate']\n",
    "print(\"Unemployment Rate in April:\",aprun.describe())\n"
   ]
  },
  {
   "cell_type": "code",
   "execution_count": 448,
   "metadata": {},
   "outputs": [
    {
     "name": "stdout",
     "output_type": "stream",
     "text": [
      "Number of Cases in May: count         6.000000\n",
      "mean     155424.833333\n",
      "std      274283.631167\n",
      "min        7333.000000\n",
      "25%       30769.250000\n",
      "50%       62032.500000\n",
      "75%       66355.750000\n",
      "max      713006.000000\n",
      "Name: Number of Cases in State, dtype: float64\n",
      "Number of Job Openings in May: count    6.000000e+00\n",
      "mean     8.488200e+05\n",
      "std      1.738487e+06\n",
      "min      8.250600e+04\n",
      "25%      9.929200e+04\n",
      "50%      1.435305e+05\n",
      "75%      2.183360e+05\n",
      "max      4.395536e+06\n",
      "Name: Number of Jobs in City, dtype: float64\n",
      "Median Pay in May: count        6.000000\n",
      "mean     60122.166667\n",
      "std       5431.149691\n",
      "min      54955.000000\n",
      "25%      55486.750000\n",
      "50%      58855.000000\n",
      "75%      64365.250000\n",
      "max      67502.000000\n",
      "Name: Median Pay in City, dtype: float64\n",
      "Unemployment Rate in May: count    6.000000\n",
      "mean     0.147833\n",
      "std      0.028944\n",
      "min      0.103000\n",
      "25%      0.137750\n",
      "50%      0.152500\n",
      "75%      0.154500\n",
      "max      0.191000\n",
      "Name: Unemployment Rate, dtype: float64\n"
     ]
    }
   ],
   "source": [
    "#may averages\n",
    "may=df.loc[df['Month']=='May']\n",
    "may=may.tail(25)\n",
    "\n",
    "maycases=may['Number of Cases in State']\n",
    "print(\"Number of Cases in May:\",maycases.describe())\n",
    "\n",
    "mayopen=may['Number of Jobs in City']\n",
    "print(\"Number of Job Openings in May:\",mayopen.describe())\n",
    "\n",
    "maypay=may['Median Pay in City']\n",
    "print(\"Median Pay in May:\",maypay.describe())\n",
    "\n",
    "mayun=may['Unemployment Rate']\n",
    "print(\"Unemployment Rate in May:\",mayun.describe())\n"
   ]
  },
  {
   "cell_type": "code",
   "execution_count": 449,
   "metadata": {},
   "outputs": [
    {
     "name": "stdout",
     "output_type": "stream",
     "text": [
      "Number of Cases in June: count         6.000000\n",
      "mean     170744.000000\n",
      "std      317579.878677\n",
      "min       11397.000000\n",
      "25%       22507.500000\n",
      "50%       28532.500000\n",
      "75%       98273.000000\n",
      "max      813983.000000\n",
      "Name: Number of Cases in State, dtype: float64\n",
      "Number of Job Openings in June: count    6.000000e+00\n",
      "mean     8.973555e+05\n",
      "std      1.845999e+06\n",
      "min      8.733900e+04\n",
      "25%      1.054745e+05\n",
      "50%      1.515750e+05\n",
      "75%      2.176668e+05\n",
      "max      4.663839e+06\n",
      "Name: Number of Jobs in City, dtype: float64\n",
      "Median Pay in June: count        6.000000\n",
      "mean     62213.833333\n",
      "std       5193.386734\n",
      "min      55108.000000\n",
      "25%      58343.750000\n",
      "50%      63155.500000\n",
      "75%      66505.500000\n",
      "max      67502.000000\n",
      "Name: Median Pay in City, dtype: float64\n",
      "Unemployment Rate in June: count    6.00000\n",
      "mean     0.13350\n",
      "std      0.04547\n",
      "min      0.07600\n",
      "25%      0.10125\n",
      "50%      0.13400\n",
      "75%      0.16225\n",
      "max      0.19500\n",
      "Name: Unemployment Rate, dtype: float64\n"
     ]
    }
   ],
   "source": [
    "#june averages\n",
    "jun=df.loc[df['Month']=='June']\n",
    "jun=jun.tail(25)\n",
    "\n",
    "juncases=jun['Number of Cases in State']\n",
    "print(\"Number of Cases in June:\",juncases.describe())\n",
    "\n",
    "junopen=jun['Number of Jobs in City']\n",
    "print(\"Number of Job Openings in June:\",junopen.describe())\n",
    "\n",
    "junpay=jun['Median Pay in City']\n",
    "print(\"Median Pay in June:\",junpay.describe())\n",
    "\n",
    "junun=jun['Unemployment Rate']\n",
    "print(\"Unemployment Rate in June:\",junun.describe())\n"
   ]
  },
  {
   "cell_type": "code",
   "execution_count": 450,
   "metadata": {},
   "outputs": [
    {
     "name": "stdout",
     "output_type": "stream",
     "text": [
      "20     3.7\n",
      "21     3.8\n",
      "22    15.2\n",
      "23    15.3\n",
      "24    15.7\n",
      "Name: Unemployment Rate, dtype: float64\n",
      "0     3.5\n",
      "1     4.4\n",
      "2    14.7\n",
      "3    13.3\n",
      "4    11.1\n",
      "Name: Unemployment Rate, dtype: float64\n"
     ]
    },
    {
     "data": {
      "image/png": "[encoded data removed]",
      "text/plain": [
       "<Figure size 864x432 with 2 Axes>"
      ]
     },
     "metadata": {
      "needs_background": "light"
     },
     "output_type": "display_data"
    },
    {
     "data": {
      "text/plain": [
       "<Figure size 576x432 with 0 Axes>"
      ]
     },
     "metadata": {},
     "output_type": "display_data"
    }
   ],
   "source": [
    "#pmf\n",
    "import numpy\n",
    "nyper=nyun*100\n",
    "print(nyper)\n",
    "\n",
    "natper=natun*100\n",
    "print(natper)\n",
    "\n",
    "\n",
    "import matplotlib.pyplot as plt\n",
    "import thinkstats2\n",
    "import thinkplot\n",
    "nypmf = thinkstats2.Pmf(nyper)\n",
    "natpmf=thinkstats2.Pmf(natper)\n",
    "nypmf[2]\n",
    "\n",
    "thinkplot.PrePlot(2, cols=2)\n",
    "thinkplot.Hist(nypmf, align='right')\n",
    "thinkplot.Hist(natpmf, align='left')\n",
    "thinkplot.PrePlot(2)\n",
    "thinkplot.SubPlot(2)\n",
    "thinkplot.Pmfs([nypmf, natpmf])\n",
    "thinkplot.Show(xlabel='Unemployment Percent')"
   ]
  },
  {
   "cell_type": "code",
   "execution_count": 451,
   "metadata": {},
   "outputs": [
    {
     "name": "stdout",
     "output_type": "stream",
     "text": [
      "Covariance 1123994309.2799997\n",
      "Pearson's Correlation 0.34547486914497505\n",
      "SpearmanCorrelation/Non-Linear 0.21119446437989348\n"
     ]
    },
    {
     "data": {
      "image/png": "[encoded data removed]",
      "text/plain": [
       "<Figure size 432x288 with 1 Axes>"
      ]
     },
     "metadata": {
      "needs_background": "light"
     },
     "output_type": "display_data"
    }
   ],
   "source": [
    "#scatter\n",
    "plt.scatter(citycases,cityopen)\n",
    "\n",
    "def Cov(xs, ys, meanx=None, meany=None):\n",
    "    xs = np.asarray(xs)\n",
    "    ys = np.asarray(ys)\n",
    "    if meanx is None:\n",
    "        meanx = np.mean(xs)\n",
    "    if meany is None:\n",
    "        meany = np.mean(ys)\n",
    "    cov = np.dot(xs-meanx, ys-meany) / len(xs)\n",
    "    return cov\n",
    "print(\"Covariance\",Cov(citycases,cityopen))\n",
    "\n",
    "def Corr(xs, ys):\n",
    "    xs = np.asarray(xs)\n",
    "    ys = np.asarray(ys)\n",
    "    meanx, varx = thinkstats2.MeanVar(xs)\n",
    "    meany, vary = thinkstats2.MeanVar(ys)\n",
    "    corr = Cov(xs, ys, meanx, meany) / np.sqrt(varx * vary)\n",
    "    return corr\n",
    "print(\"Pearson's Correlation\",Corr(citycases,cityopen))\n",
    "\n",
    "import pandas as pd\n",
    "def SpearmanCorr(xs, ys):\n",
    "    xranks = pd.Series(xs).rank()\n",
    "    yranks = pd.Series(ys).rank()\n",
    "    return Corr(xranks, yranks)\n",
    "print(\"SpearmanCorrelation/Non-Linear\",SpearmanCorr(citycases,cityopen))\n"
   ]
  },
  {
   "cell_type": "code",
   "execution_count": 452,
   "metadata": {},
   "outputs": [
    {
     "name": "stdout",
     "output_type": "stream",
     "text": [
      "Covariance 1364.0557199999998\n",
      "Pearson's Correlation 0.4666596778880057\n",
      "SpearmanCorrelation/Non-Linear 0.7195075028857253\n"
     ]
    },
    {
     "data": {
      "image/png": "[encoded data removed]",
      "text/plain": [
       "<Figure size 432x288 with 1 Axes>"
      ]
     },
     "metadata": {
      "needs_background": "light"
     },
     "output_type": "display_data"
    }
   ],
   "source": [
    "#scatter\n",
    "plt.scatter(citycases,cityun)\n",
    "\n",
    "def Cov(xs, ys, meanx=None, meany=None):\n",
    "    xs = np.asarray(xs)\n",
    "    ys = np.asarray(ys)\n",
    "    if meanx is None:\n",
    "        meanx = np.mean(xs)\n",
    "    if meany is None:\n",
    "        meany = np.mean(ys)\n",
    "    cov = np.dot(xs-meanx, ys-meany) / len(xs)\n",
    "    return cov\n",
    "print(\"Covariance\",Cov(citycases,cityun))\n",
    "\n",
    "def Corr(xs, ys):\n",
    "    xs = np.asarray(xs)\n",
    "    ys = np.asarray(ys)\n",
    "    meanx, varx = thinkstats2.MeanVar(xs)\n",
    "    meany, vary = thinkstats2.MeanVar(ys)\n",
    "    corr = Cov(xs, ys, meanx, meany) / np.sqrt(varx * vary)\n",
    "    return corr\n",
    "print(\"Pearson's Correlation\",Corr(citycases,cityun))\n",
    "\n",
    "import pandas as pd\n",
    "def SpearmanCorr(xs, ys):\n",
    "    xranks = pd.Series(xs).rank()\n",
    "    yranks = pd.Series(ys).rank()\n",
    "    return Corr(xranks, yranks)\n",
    "print(\"SpearmanCorrelation/Non-Linear\",SpearmanCorr(citycases,cityun))"
   ]
  },
  {
   "cell_type": "code",
   "execution_count": 453,
   "metadata": {},
   "outputs": [
    {
     "name": "stdout",
     "output_type": "stream",
     "text": [
      "Covariance 69336764.72000001\n",
      "Pearson's Correlation 0.33511577507461526\n",
      "SpearmanCorrelation/Non-Linear 0.35244324740284727\n"
     ]
    },
    {
     "data": {
      "image/png": "[encoded data removed]",
      "text/plain": [
       "<Figure size 432x288 with 1 Axes>"
      ]
     },
     "metadata": {
      "needs_background": "light"
     },
     "output_type": "display_data"
    }
   ],
   "source": [
    "#scatter\n",
    "plt.scatter(citycases,citypay)\n",
    "\n",
    "def Cov(xs, ys, meanx=None, meany=None):\n",
    "    xs = np.asarray(xs)\n",
    "    ys = np.asarray(ys)\n",
    "    if meanx is None:\n",
    "        meanx = np.mean(xs)\n",
    "    if meany is None:\n",
    "        meany = np.mean(ys)\n",
    "    cov = np.dot(xs-meanx, ys-meany) / len(xs)\n",
    "    return cov\n",
    "print(\"Covariance\",Cov(citycases,citypay))\n",
    "\n",
    "def Corr(xs, ys):\n",
    "    xs = np.asarray(xs)\n",
    "    ys = np.asarray(ys)\n",
    "    meanx, varx = thinkstats2.MeanVar(xs)\n",
    "    meany, vary = thinkstats2.MeanVar(ys)\n",
    "    corr = Cov(xs, ys, meanx, meany) / np.sqrt(varx * vary)\n",
    "    return corr\n",
    "print(\"Pearson's Correlation\",Corr(citycases,citypay))\n",
    "\n",
    "import pandas as pd\n",
    "def SpearmanCorr(xs, ys):\n",
    "    xranks = pd.Series(xs).rank()\n",
    "    yranks = pd.Series(ys).rank()\n",
    "    return Corr(xranks, yranks)\n",
    "print(\"SpearmanCorrelation/Non-Linear\",SpearmanCorr(citycases,citypay))"
   ]
  },
  {
   "cell_type": "code",
   "execution_count": 454,
   "metadata": {},
   "outputs": [
    {
     "name": "stdout",
     "output_type": "stream",
     "text": [
      "Covariance -656.4759120000002\n",
      "Pearson's Correlation -0.16666597961490373\n",
      "SpearmanCorrelation/Non-Linear -0.07847663157285659\n"
     ]
    },
    {
     "data": {
      "image/png": "[encoded data removed]",
      "text/plain": [
       "<Figure size 432x288 with 1 Axes>"
      ]
     },
     "metadata": {
      "needs_background": "light"
     },
     "output_type": "display_data"
    }
   ],
   "source": [
    "#scatter\n",
    "plt.scatter(cityopen,cityun)\n",
    "\n",
    "def Cov(xs, ys, meanx=None, meany=None):\n",
    "    xs = np.asarray(xs)\n",
    "    ys = np.asarray(ys)\n",
    "    if meanx is None:\n",
    "        meanx = np.mean(xs)\n",
    "    if meany is None:\n",
    "        meany = np.mean(ys)\n",
    "    cov = np.dot(xs-meanx, ys-meany) / len(xs)\n",
    "    return cov\n",
    "print(\"Covariance\",Cov(cityopen,cityun))\n",
    "\n",
    "def Corr(xs, ys):\n",
    "    xs = np.asarray(xs)\n",
    "    ys = np.asarray(ys)\n",
    "    meanx, varx = thinkstats2.MeanVar(xs)\n",
    "    meany, vary = thinkstats2.MeanVar(ys)\n",
    "    corr = Cov(xs, ys, meanx, meany) / np.sqrt(varx * vary)\n",
    "    return corr\n",
    "print(\"Pearson's Correlation\",Corr(cityopen,cityun))\n",
    "\n",
    "import pandas as pd\n",
    "def SpearmanCorr(xs, ys):\n",
    "    xranks = pd.Series(xs).rank()\n",
    "    yranks = pd.Series(ys).rank()\n",
    "    return Corr(xranks, yranks)\n",
    "print(\"SpearmanCorrelation/Non-Linear\",SpearmanCorr(cityopen,cityun))"
   ]
  },
  {
   "cell_type": "code",
   "execution_count": 455,
   "metadata": {},
   "outputs": [
    {
     "data": {
      "image/png": "[encoded data removed]",
      "text/plain": [
       "<Figure size 432x288 with 1 Axes>"
      ]
     },
     "metadata": {
      "needs_background": "light"
     },
     "output_type": "display_data"
    },
    {
     "data": {
      "image/png": "[encoded data removed]",
      "text/plain": [
       "<Figure size 576x432 with 1 Axes>"
      ]
     },
     "metadata": {
      "needs_background": "light"
     },
     "output_type": "display_data"
    }
   ],
   "source": [
    "#cdf\n",
    "city_cdf = thinkstats2.Cdf(citycases, label='cities')\n",
    "thinkplot.PrePlot(1)\n",
    "thinkplot.Cdfs([ city_cdf])\n",
    "thinkplot.Show(xlabel='number of cases', ylabel='CDF')\n",
    "\n",
    "city_ccdf=thinkplot.Cdf(city_cdf, complement=True)\n",
    "thinkplot.Config(xlabel='number of cases',\n",
    "                 ylabel='CCDF', yscale='log', loc='upper right')\n",
    "\n"
   ]
  },
  {
   "cell_type": "code",
   "execution_count": 456,
   "metadata": {},
   "outputs": [
    {
     "data": {
      "image/png": "[encoded data removed]",
      "text/plain": [
       "<Figure size 432x288 with 1 Axes>"
      ]
     },
     "metadata": {
      "needs_background": "light"
     },
     "output_type": "display_data"
    }
   ],
   "source": [
    "#cdf\n",
    "thinkplot.PrePlot(3)\n",
    "\n",
    "mus = [1.0, 2.0, 3.0]\n",
    "sigmas = [0.5, 0.4, 0.3]\n",
    "for mu, sigma in zip(mus, sigmas):\n",
    "    xs, ps = thinkstats2.RenderNormalCdf(mu=mu, sigma=sigma, \n",
    "                                               low=-1.0, high=4.0)\n",
    "    label = r'$\\mu=%g$, $\\sigma=%g$' % (mu, sigma)\n",
    "    thinkplot.Plot(xs, ps, label=label)\n",
    "\n",
    "thinkplot.Config(title='Normal CDF', xlabel='x', ylabel='CDF',\n",
    "                 loc='upper left')\n"
   ]
  },
  {
   "cell_type": "code",
   "execution_count": 457,
   "metadata": {},
   "outputs": [
    {
     "name": "stdout",
     "output_type": "stream",
     "text": [
      "Mean, Var 35282.0 2514990892.25\n",
      "Sigma 50149.684866906195\n"
     ]
    },
    {
     "data": {
      "image/png": "[encoded data removed]",
      "text/plain": [
       "<Figure size 432x288 with 1 Axes>"
      ]
     },
     "metadata": {
      "needs_background": "light"
     },
     "output_type": "display_data"
    }
   ],
   "source": [
    "#cases cdf fitted on normal distribution\n",
    "mu=citycases.mean()\n",
    "var=citycases.var()\n",
    "print('Mean, Var', mu, var)\n",
    "    \n",
    "# plot the model\n",
    "sigma = np.sqrt(var)\n",
    "print('Sigma', sigma)\n",
    "xs, ps = thinkstats2.RenderNormalCdf(mu, sigma, low=0, high=200000)\n",
    "\n",
    "thinkplot.Plot(xs, ps, label='model', color='0.6')\n",
    "\n",
    "# plot the data\n",
    "cdf = thinkstats2.Cdf(citycases, label='data')\n",
    "\n",
    "thinkplot.PrePlot(1)\n",
    "thinkplot.Cdf(cdf) \n",
    "thinkplot.Config(title='Cases in Major Cities',\n",
    "                 xlabel='Number of Cases',\n",
    "                 ylabel='CDF')"
   ]
  },
  {
   "cell_type": "code",
   "execution_count": 458,
   "metadata": {},
   "outputs": [
    {
     "data": {
      "image/png": "[encoded data removed]",
      "text/plain": [
       "<Figure size 432x288 with 1 Axes>"
      ]
     },
     "metadata": {
      "needs_background": "light"
     },
     "output_type": "display_data"
    }
   ],
   "source": [
    "#normal prob plot\n",
    "xs = [-3, 3]\n",
    "ys=[0,300000]\n",
    "fxs, fys = thinkstats2.FitLine(xs, mu, sigma)\n",
    "thinkplot.Plot(fxs, fys, linewidth=4, color='0.8')\n",
    "\n",
    "xs, ys = thinkstats2.NormalProbability(citycases)\n",
    "thinkplot.Plot(xs, ys, label='cities')\n",
    "\n",
    "thinkplot.Config(title='Normal probability plot',\n",
    "                 xlabel='Standard deviations from mean',\n",
    "                 ylabel='Number of Cases')"
   ]
  },
  {
   "cell_type": "code",
   "execution_count": 459,
   "metadata": {},
   "outputs": [
    {
     "data": {
      "image/png": "[encoded data removed]",
      "text/plain": [
       "<Figure size 432x288 with 1 Axes>"
      ]
     },
     "metadata": {
      "needs_background": "light"
     },
     "output_type": "display_data"
    },
    {
     "data": {
      "text/plain": [
       "<Figure size 576x432 with 0 Axes>"
      ]
     },
     "metadata": {},
     "output_type": "display_data"
    }
   ],
   "source": [
    "#cdf\n",
    "job_cdf = thinkstats2.Cdf(cityopen, label='cities')\n",
    "thinkplot.PrePlot(1)\n",
    "thinkplot.Cdfs([job_cdf])\n",
    "thinkplot.Show(xlabel='number of job openings', ylabel='CDF')"
   ]
  },
  {
   "cell_type": "code",
   "execution_count": 460,
   "metadata": {},
   "outputs": [
    {
     "name": "stdout",
     "output_type": "stream",
     "text": [
      "P-value 0.541\n"
     ]
    },
    {
     "data": {
      "image/png": "[encoded data removed]",
      "text/plain": [
       "<Figure size 432x288 with 1 Axes>"
      ]
     },
     "metadata": {
      "needs_background": "light"
     },
     "output_type": "display_data"
    },
    {
     "name": "stdout",
     "output_type": "stream",
     "text": [
      "P-value 0.66\n"
     ]
    },
    {
     "data": {
      "image/png": "[encoded data removed]",
      "text/plain": [
       "<Figure size 576x432 with 1 Axes>"
      ]
     },
     "metadata": {
      "needs_background": "light"
     },
     "output_type": "display_data"
    },
    {
     "data": {
      "text/plain": [
       "<Figure size 576x432 with 0 Axes>"
      ]
     },
     "metadata": {},
     "output_type": "display_data"
    }
   ],
   "source": [
    "#hypothesis test\n",
    "class DiffMeansPermute(thinkstats2.HypothesisTest):\n",
    "    def TestStatistic(self, data):\n",
    "        group1, group2 = data\n",
    "        test_stat = abs(group1.mean() - group2.mean())\n",
    "        return test_stat\n",
    "\n",
    "    def MakeModel(self):\n",
    "        group1, group2 = self.data\n",
    "        self.n, self.m = len(group1), len(group2)\n",
    "        self.pool = np.hstack((group1, group2))\n",
    "\n",
    "    def RunModel(self):\n",
    "        np.random.shuffle(self.pool)\n",
    "        data = self.pool[:self.n], self.pool[self.n:]\n",
    "        return data\n",
    "\n",
    "\n",
    "data = febopen.values, junopen.values\n",
    "ht = DiffMeansPermute(data)\n",
    "pvalue = ht.PValue()\n",
    "print(\"P-value\",pvalue)\n",
    "\n",
    "ht.PlotCdf()\n",
    "thinkplot.Show()\n",
    "\n",
    "data = febpay.values, junpay.values\n",
    "ht = DiffMeansPermute(data)\n",
    "pvalue = ht.PValue()\n",
    "print(\"P-value\",pvalue)\n",
    "\n",
    "ht.PlotCdf()\n",
    "thinkplot.Show()"
   ]
  },
  {
   "cell_type": "code",
   "execution_count": 464,
   "metadata": {},
   "outputs": [
    {
     "data": {
      "image/png": "[encoded data removed]",
      "text/plain": [
       "<Figure size 432x288 with 1 Axes>"
      ]
     },
     "metadata": {
      "needs_background": "light"
     },
     "output_type": "display_data"
    }
   ],
   "source": [
    "#regression analysis\n",
    "cases=citycases\n",
    "unemployment=cityun\n",
    "\n",
    "from thinkstats2 import Mean, MeanVar, Var, Std, Cov\n",
    "\n",
    "def LeastSquares(xs, ys):\n",
    "    meanx, varx = MeanVar(xs)\n",
    "    meany = Mean(ys)\n",
    "\n",
    "    slope = Cov(xs, ys, meanx, meany) / varx\n",
    "    inter = meany - slope * meanx\n",
    "\n",
    "    return inter, slope\n",
    "\n",
    "inter, slope = LeastSquares(cases,unemployment)\n",
    "inter, slope\n",
    "\n",
    "def FitLine(xs, inter, slope):\n",
    "    fit_xs = np.sort(xs)\n",
    "    fit_ys = inter + slope * fit_xs\n",
    "    return fit_xs, fit_ys\n",
    "\n",
    "thinkplot.Scatter(cases,unemployment)\n",
    "thinkplot.Plot(fit_xs, fit_ys, color='white', linewidth=3)\n",
    "thinkplot.Plot(fit_xs, fit_ys, color='red', linewidth=2)\n",
    "thinkplot.Config(xlabel=\"Number of Cases\",ylabel='Unemployment Rate',legend=False)"
   ]
  },
  {
   "cell_type": "code",
   "execution_count": 499,
   "metadata": {},
   "outputs": [
    {
     "name": "stdout",
     "output_type": "stream",
     "text": [
      "5          0\n",
      "6       4018\n",
      "7      22143\n",
      "8      20803\n",
      "9      34139\n",
      "10         3\n",
      "11      5895\n",
      "12     46924\n",
      "13     67342\n",
      "14     22926\n",
      "15        13\n",
      "16      8067\n",
      "17     42257\n",
      "18     60668\n",
      "19    119651\n",
      "20         0\n",
      "21     83483\n",
      "23     63397\n",
      "24     22368\n",
      "25        10\n",
      "26      5672\n",
      "27      8939\n",
      "28      7333\n",
      "29     11397\n",
      "Name: Number of Cases in State, dtype: int64\n"
     ]
    }
   ],
   "source": [
    "citycut=city.loc[city[\"Number of Cases in State\"]!=224602]\n",
    "print(cases)\n",
    "cases=citycut[\"Number of Cases in State\"]\n",
    "unemployment=citycut['Unemployment Rate']"
   ]
  },
  {
   "cell_type": "code",
   "execution_count": 500,
   "metadata": {},
   "outputs": [
    {
     "data": {
      "image/png": "[encoded data removed]",
      "text/plain": [
       "<Figure size 432x288 with 1 Axes>"
      ]
     },
     "metadata": {
      "needs_background": "light"
     },
     "output_type": "display_data"
    }
   ],
   "source": [
    "from thinkstats2 import Mean, MeanVar, Var, Std, Cov\n",
    "\n",
    "def LeastSquares(xs, ys):\n",
    "    meanx, varx = MeanVar(xs)\n",
    "    meany = Mean(ys)\n",
    "\n",
    "    slope = Cov(xs, ys, meanx, meany) / varx\n",
    "    inter = meany - slope * meanx\n",
    "\n",
    "    return inter, slope\n",
    "\n",
    "inter, slope = LeastSquares(cases,unemployment)\n",
    "inter, slope\n",
    "\n",
    "def FitLine(xs, inter, slope):\n",
    "    fit_xs = np.sort(xs)\n",
    "    fit_ys = inter + slope * fit_xs\n",
    "    return fit_xs, fit_ys\n",
    "\n",
    "thinkplot.Scatter(cases,unemployment)\n",
    "thinkplot.Plot(fit_xs, fit_ys, color='white', linewidth=3)\n",
    "thinkplot.Plot(fit_xs, fit_ys, color='red', linewidth=2)\n",
    "thinkplot.Config(xlabel=\"Number of Cases\",ylabel='Unemployment Rate',legend=False)"
   ]
  },
  {
   "cell_type": "code",
   "execution_count": null,
   "metadata": {},
   "outputs": [],
   "source": []
  }
 ],
 "metadata": {
  "kernelspec": {
   "display_name": "Python 3",
   "language": "python",
   "name": "python3"
  },
  "language_info": {
   "codemirror_mode": {
    "name": "ipython",
    "version": 3
   },
   "file_extension": ".py",
   "mimetype": "text/x-python",
   "name": "python",
   "nbconvert_exporter": "python",
   "pygments_lexer": "ipython3",
   "version": "3.7.5"
  }
 },
 "nbformat": 4,
 "nbformat_minor": 2
}
