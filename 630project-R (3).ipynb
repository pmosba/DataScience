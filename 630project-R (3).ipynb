{
 "cells": [
  {
   "cell_type": "code",
   "execution_count": 30,
   "metadata": {},
   "outputs": [
    {
     "data": {
      "text/html": [
       "<table>\n",
       "<thead><tr><th scope=col>X</th><th scope=col>Year</th><th scope=col>Population_size</th><th scope=col>Seal_pop</th><th scope=col>Seattle_pop</th><th scope=col>Harvested</th></tr></thead>\n",
       "<tbody>\n",
       "\t<tr><td>0      </td><td>1984   </td><td> 87458 </td><td> 93011 </td><td>1940000</td><td>415773 </td></tr>\n",
       "\t<tr><td>1      </td><td>1985   </td><td>113163 </td><td> 93012 </td><td>1982000</td><td>373350 </td></tr>\n",
       "\t<tr><td>2      </td><td>1986   </td><td> 98334 </td><td> 96676 </td><td>2025000</td><td>377386 </td></tr>\n",
       "\t<tr><td>3      </td><td>1987   </td><td> 86407 </td><td>101844 </td><td>2069000</td><td>322433 </td></tr>\n",
       "\t<tr><td>4      </td><td>1988   </td><td> 94799 </td><td>106850 </td><td>2114000</td><td>346779 </td></tr>\n",
       "\t<tr><td>5      </td><td>1989   </td><td> 85001 </td><td>116183 </td><td>2160000</td><td>389584 </td></tr>\n",
       "</tbody>\n",
       "</table>\n"
      ],
      "text/latex": [
       "\\begin{tabular}{r|llllll}\n",
       " X & Year & Population\\_size & Seal\\_pop & Seattle\\_pop & Harvested\\\\\n",
       "\\hline\n",
       "\t 0       & 1984    &  87458  &  93011  & 1940000 & 415773 \\\\\n",
       "\t 1       & 1985    & 113163  &  93012  & 1982000 & 373350 \\\\\n",
       "\t 2       & 1986    &  98334  &  96676  & 2025000 & 377386 \\\\\n",
       "\t 3       & 1987    &  86407  & 101844  & 2069000 & 322433 \\\\\n",
       "\t 4       & 1988    &  94799  & 106850  & 2114000 & 346779 \\\\\n",
       "\t 5       & 1989    &  85001  & 116183  & 2160000 & 389584 \\\\\n",
       "\\end{tabular}\n"
      ],
      "text/markdown": [
       "\n",
       "| X | Year | Population_size | Seal_pop | Seattle_pop | Harvested |\n",
       "|---|---|---|---|---|---|\n",
       "| 0       | 1984    |  87458  |  93011  | 1940000 | 415773  |\n",
       "| 1       | 1985    | 113163  |  93012  | 1982000 | 373350  |\n",
       "| 2       | 1986    |  98334  |  96676  | 2025000 | 377386  |\n",
       "| 3       | 1987    |  86407  | 101844  | 2069000 | 322433  |\n",
       "| 4       | 1988    |  94799  | 106850  | 2114000 | 346779  |\n",
       "| 5       | 1989    |  85001  | 116183  | 2160000 | 389584  |\n",
       "\n"
      ],
      "text/plain": [
       "  X Year Population_size Seal_pop Seattle_pop Harvested\n",
       "1 0 1984  87458           93011   1940000     415773   \n",
       "2 1 1985 113163           93012   1982000     373350   \n",
       "3 2 1986  98334           96676   2025000     377386   \n",
       "4 3 1987  86407          101844   2069000     322433   \n",
       "5 4 1988  94799          106850   2114000     346779   \n",
       "6 5 1989  85001          116183   2160000     389584   "
      ]
     },
     "metadata": {},
     "output_type": "display_data"
    }
   ],
   "source": [
    "#reading in csv\n",
    "salmon=read.csv('salmon.csv')\n",
    "head(salmon)\n",
    "\n",
    "install.packages(\"caret\",repos = \"http://cran.us.r-project.org\")\n",
    "library('caret')\n",
    "\n",
    "install.packages(\"glmnet\", repos = \"http://cran.us.r-project.org\")\n",
    "library('glmnet')"
   ]
  },
  {
   "cell_type": "code",
   "execution_count": 17,
   "metadata": {},
   "outputs": [],
   "source": [
    "#normalize pop, seal, seattle, harvested\n",
    "\n",
    "#df = salmon[,c(3,4,5,6)]\n",
    "#head(df)\n",
    "\n",
    "#normalize <- function(x) {\n",
    "#return ((x - min(x)) / (max(x) - min(x)))\n",
    "#}\n",
    "\n",
    "#df_norm<-normalize(df)\n",
    "\n",
    "#print(df_norm)"
   ]
  },
  {
   "cell_type": "code",
   "execution_count": 31,
   "metadata": {},
   "outputs": [
    {
     "data": {
      "text/html": [
       "<ol class=list-inline>\n",
       "\t<li>21</li>\n",
       "\t<li>4</li>\n",
       "</ol>\n"
      ],
      "text/latex": [
       "\\begin{enumerate*}\n",
       "\\item 21\n",
       "\\item 4\n",
       "\\end{enumerate*}\n"
      ],
      "text/markdown": [
       "1. 21\n",
       "2. 4\n",
       "\n",
       "\n"
      ],
      "text/plain": [
       "[1] 21  4"
      ]
     },
     "metadata": {},
     "output_type": "display_data"
    },
    {
     "data": {
      "text/html": [
       "<ol class=list-inline>\n",
       "\t<li>10</li>\n",
       "\t<li>4</li>\n",
       "</ol>\n"
      ],
      "text/latex": [
       "\\begin{enumerate*}\n",
       "\\item 10\n",
       "\\item 4\n",
       "\\end{enumerate*}\n"
      ],
      "text/markdown": [
       "1. 10\n",
       "2. 4\n",
       "\n",
       "\n"
      ],
      "text/plain": [
       "[1] 10  4"
      ]
     },
     "metadata": {},
     "output_type": "display_data"
    }
   ],
   "source": [
    "#separating data into test and train\n",
    "\n",
    "set.seed(100)\n",
    "\n",
    "\n",
    "train<-df[1:21,]\n",
    "test=df[22:31,]\n",
    "\n",
    "dim(train)\n",
    "dim(test)\n"
   ]
  },
  {
   "cell_type": "code",
   "execution_count": 41,
   "metadata": {},
   "outputs": [
    {
     "data": {
      "text/plain": [
       "\n",
       "Call:\n",
       "lm(formula = Harvested ~ Seal_pop + Seattle_pop + Population_size, \n",
       "    data = train)\n",
       "\n",
       "Residuals:\n",
       "   Min     1Q Median     3Q    Max \n",
       "-53514 -18883  -3191   8169  79977 \n",
       "\n",
       "Coefficients:\n",
       "                  Estimate Std. Error t value Pr(>|t|)    \n",
       "(Intercept)      9.136e+05  1.161e+05   7.871 4.55e-07 ***\n",
       "Seal_pop         3.998e-01  6.787e-01   0.589 0.563590    \n",
       "Seattle_pop     -3.651e-01  8.717e-02  -4.189 0.000616 ***\n",
       "Population_size  1.627e+00  2.807e-01   5.795 2.15e-05 ***\n",
       "---\n",
       "Signif. codes:  0 ‘***’ 0.001 ‘**’ 0.01 ‘*’ 0.05 ‘.’ 0.1 ‘ ’ 1\n",
       "\n",
       "Residual standard error: 33940 on 17 degrees of freedom\n",
       "Multiple R-squared:  0.9248,\tAdjusted R-squared:  0.9116 \n",
       "F-statistic: 69.73 on 3 and 17 DF,  p-value: 9.252e-10\n"
      ]
     },
     "metadata": {},
     "output_type": "display_data"
    }
   ],
   "source": [
    "#testing linear regression\n",
    "\n",
    "linear=lm(Harvested ~ Seal_pop+Seattle_pop+Population_size, data=train)\n",
    "summary(linear)\n"
   ]
  },
  {
   "cell_type": "code",
   "execution_count": 33,
   "metadata": {},
   "outputs": [
    {
     "name": "stdout",
     "output_type": "stream",
     "text": [
      "[1] \"0.89\"\n",
      "[1] \"248112.32\"\n"
     ]
    }
   ],
   "source": [
    "#evaluating linear regression model\n",
    "\n",
    "#create the evaluation metrics function\n",
    "\n",
    "eval_metrics = function(model, df, predictions, target){\n",
    "    resids = df[,target] - predictions\n",
    "    resids2 = resids**2\n",
    "    N = length(predictions)\n",
    "    r2 = as.character(round(summary(model)$r.squared, 2))\n",
    "    adj_r2 = as.character(round(summary(model)$adj.r.squared, 2))\n",
    "    print(adj_r2) #Adjusted R-squared\n",
    "    print(as.character(round(sqrt(sum(resids2)/N), 2)))} #RMSE\n",
    "\n",
    "#evaluating train data\n",
    "predictions=predict(linear, newdata = train)\n",
    "eval_metrics(linear, train, predictions, target = 'Harvested')\n",
    "\n",
    "#rmse of 0.01 and r-squared of 0.91"
   ]
  },
  {
   "cell_type": "code",
   "execution_count": 34,
   "metadata": {},
   "outputs": [
    {
     "name": "stdout",
     "output_type": "stream",
     "text": [
      "[1] \"0.89\"\n",
      "[1] \"140312.71\"\n"
     ]
    }
   ],
   "source": [
    "#evaluating linear regression continued\n",
    "\n",
    "#evaluating test data\n",
    "predictions = predict(linear, newdata = test)\n",
    "eval_metrics(linear, test, predictions, target = 'Harvested')\n",
    "\n",
    "#rmse of 0.05 and r squared of 0.91"
   ]
  },
  {
   "cell_type": "code",
   "execution_count": 43,
   "metadata": {},
   "outputs": [
    {
     "data": {
      "text/plain": [
       " Length   Class    Mode \n",
       "      3 formula    call "
      ]
     },
     "metadata": {},
     "output_type": "display_data"
    }
   ],
   "source": [
    "# R program to illustrate \n",
    "# Polynomial regression \n",
    "\n",
    "poly=Harvested~polym(Seal_pop,Seattle_pop,Population_size,degree=3,raw=TRUE)\n",
    "\n",
    "summary(poly)\n"
   ]
  },
  {
   "cell_type": "code",
   "execution_count": 36,
   "metadata": {},
   "outputs": [
    {
     "name": "stdout",
     "output_type": "stream",
     "text": [
      "[1] 21  3\n",
      "[1] 10  3\n"
     ]
    }
   ],
   "source": [
    "#regularizing the data\n",
    "\n",
    "cols_reg = c('Population_size', 'Seal_pop', 'Seattle_pop', 'Harvested')\n",
    "\n",
    "dummies <- dummyVars(log(Harvested) ~ ., data = df[,cols_reg])\n",
    "\n",
    "train_dummies = predict(dummies, newdata = train[,cols_reg])\n",
    "\n",
    "test_dummies = predict(dummies, newdata = test[,cols_reg])\n",
    "\n",
    "print(dim(train_dummies)); print(dim(test_dummies))"
   ]
  },
  {
   "cell_type": "code",
   "execution_count": 38,
   "metadata": {},
   "outputs": [
    {
     "data": {
      "text/plain": [
       "          Length Class     Mode   \n",
       "a0         51    -none-    numeric\n",
       "beta      153    dgCMatrix S4     \n",
       "df         51    -none-    numeric\n",
       "dim         2    -none-    numeric\n",
       "lambda     51    -none-    numeric\n",
       "dev.ratio  51    -none-    numeric\n",
       "nulldev     1    -none-    numeric\n",
       "npasses     1    -none-    numeric\n",
       "jerr        1    -none-    numeric\n",
       "offset      1    -none-    logical\n",
       "call        7    -none-    call   \n",
       "nobs        1    -none-    numeric"
      ]
     },
     "metadata": {},
     "output_type": "display_data"
    }
   ],
   "source": [
    "#evaluating ridge regression as a model\n",
    "\n",
    "library(glmnet)\n",
    "\n",
    "#creating training variables\n",
    "x = as.matrix(train_dummies)\n",
    "y_train = train$Harvested\n",
    "\n",
    "#creating testing variables\n",
    "x_test = as.matrix(test_dummies)\n",
    "y_test = test$Harvested\n",
    "\n",
    "#creates list of lambda values for model to try\n",
    "lambdas <- 10^seq(2, -3, by = -.1)\n",
    "\n",
    "#builds ridge regression model\n",
    "ridge_reg = glmnet(x, y_train, nlambda = 25, alpha = 0, family = 'gaussian', lambda = lambdas)\n",
    "\n",
    "#print ridge reg model information\n",
    "summary(ridge_reg)"
   ]
  },
  {
   "cell_type": "code",
   "execution_count": 39,
   "metadata": {},
   "outputs": [
    {
     "name": "stderr",
     "output_type": "stream",
     "text": [
      "Warning message:\n",
      "“Option grouped=FALSE enforced in cv.glmnet, since < 3 observations per fold”"
     ]
    },
    {
     "data": {
      "text/html": [
       "100"
      ],
      "text/latex": [
       "100"
      ],
      "text/markdown": [
       "100"
      ],
      "text/plain": [
       "[1] 100"
      ]
     },
     "metadata": {},
     "output_type": "display_data"
    }
   ],
   "source": [
    "#ridge regression continued\n",
    "\n",
    "#finding optimal lambda value\n",
    "cv_ridge <- cv.glmnet(x, y_train, alpha = 0, lambda = lambdas)\n",
    "optimal_lambda <- cv_ridge$lambda.min\n",
    "optimal_lambda"
   ]
  },
  {
   "cell_type": "code",
   "execution_count": 40,
   "metadata": {},
   "outputs": [
    {
     "data": {
      "text/html": [
       "<table>\n",
       "<thead><tr><th scope=col>RMSE</th><th scope=col>Rsquare</th></tr></thead>\n",
       "<tbody>\n",
       "\t<tr><td>30542.41 </td><td>0.9248253</td></tr>\n",
       "</tbody>\n",
       "</table>\n"
      ],
      "text/latex": [
       "\\begin{tabular}{r|ll}\n",
       " RMSE & Rsquare\\\\\n",
       "\\hline\n",
       "\t 30542.41  & 0.9248253\\\\\n",
       "\\end{tabular}\n"
      ],
      "text/markdown": [
       "\n",
       "| RMSE | Rsquare |\n",
       "|---|---|\n",
       "| 30542.41  | 0.9248253 |\n",
       "\n"
      ],
      "text/plain": [
       "  RMSE     Rsquare  \n",
       "1 30542.41 0.9248253"
      ]
     },
     "metadata": {},
     "output_type": "display_data"
    },
    {
     "data": {
      "text/html": [
       "<table>\n",
       "<thead><tr><th scope=col>RMSE</th><th scope=col>Rsquare</th></tr></thead>\n",
       "<tbody>\n",
       "\t<tr><td>168907.7 </td><td>-56.45516</td></tr>\n",
       "</tbody>\n",
       "</table>\n"
      ],
      "text/latex": [
       "\\begin{tabular}{r|ll}\n",
       " RMSE & Rsquare\\\\\n",
       "\\hline\n",
       "\t 168907.7  & -56.45516\\\\\n",
       "\\end{tabular}\n"
      ],
      "text/markdown": [
       "\n",
       "| RMSE | Rsquare |\n",
       "|---|---|\n",
       "| 168907.7  | -56.45516 |\n",
       "\n"
      ],
      "text/plain": [
       "  RMSE     Rsquare  \n",
       "1 168907.7 -56.45516"
      ]
     },
     "metadata": {},
     "output_type": "display_data"
    }
   ],
   "source": [
    "#ridge regression continued\n",
    "\n",
    "# Compute R^2 from true and predicted values\n",
    "eval_results <- function(true, predicted, df_norm) {\n",
    "  SSE <- sum((predicted - true)^2)\n",
    "  SST <- sum((true - mean(true))^2)\n",
    "  R_square <- 1 - SSE / SST\n",
    "  RMSE = sqrt(SSE/nrow(df_norm))\n",
    "\n",
    "  \n",
    "  # Model performance metrics\n",
    "data.frame(\n",
    "  RMSE = RMSE,\n",
    "  Rsquare = R_square\n",
    ")\n",
    "  \n",
    "}\n",
    "\n",
    "# Prediction and evaluation on train data\n",
    "predictions_train <- predict(ridge_reg, s = optimal_lambda, newx = x)\n",
    "eval_results(y_train, predictions_train, train)\n",
    "\n",
    "# Prediction and evaluation on test data\n",
    "predictions_test <- predict(ridge_reg, s = optimal_lambda, newx = x_test)\n",
    "eval_results(y_test, predictions_test, test)\n",
    "\n",
    "#"
   ]
  },
  {
   "cell_type": "code",
   "execution_count": 26,
   "metadata": {},
   "outputs": [
    {
     "data": {
      "text/html": [
       "100"
      ],
      "text/latex": [
       "100"
      ],
      "text/markdown": [
       "100"
      ],
      "text/plain": [
       "[1] 100"
      ]
     },
     "metadata": {},
     "output_type": "display_data"
    }
   ],
   "source": [
    "#lasso regression \n",
    "\n",
    "#getting optimal lambda\n",
    "lambdas <- 10^seq(2, -3, by = -.1)\n",
    "\n",
    "# Setting alpha = 1 implements lasso regression\n",
    "lasso_reg <- cv.glmnet(x, y_train, alpha = 1, lambda = lambdas, standardize = TRUE, nfolds = 5)\n",
    "\n",
    "# Best \n",
    "lambda_best <- lasso_reg$lambda.min \n",
    "lambda_best"
   ]
  },
  {
   "cell_type": "code",
   "execution_count": 27,
   "metadata": {},
   "outputs": [
    {
     "data": {
      "text/html": [
       "<table>\n",
       "<thead><tr><th scope=col>RMSE</th><th scope=col>Rsquare</th></tr></thead>\n",
       "<tbody>\n",
       "\t<tr><td>30549.35 </td><td>0.9247912</td></tr>\n",
       "</tbody>\n",
       "</table>\n"
      ],
      "text/latex": [
       "\\begin{tabular}{r|ll}\n",
       " RMSE & Rsquare\\\\\n",
       "\\hline\n",
       "\t 30549.35  & 0.9247912\\\\\n",
       "\\end{tabular}\n"
      ],
      "text/markdown": [
       "\n",
       "| RMSE | Rsquare |\n",
       "|---|---|\n",
       "| 30549.35  | 0.9247912 |\n",
       "\n"
      ],
      "text/plain": [
       "  RMSE     Rsquare  \n",
       "1 30549.35 0.9247912"
      ]
     },
     "metadata": {},
     "output_type": "display_data"
    },
    {
     "data": {
      "text/html": [
       "<table>\n",
       "<thead><tr><th scope=col>RMSE</th><th scope=col>Rsquare</th></tr></thead>\n",
       "<tbody>\n",
       "\t<tr><td>169667.1</td><td>-56.9729</td></tr>\n",
       "</tbody>\n",
       "</table>\n"
      ],
      "text/latex": [
       "\\begin{tabular}{r|ll}\n",
       " RMSE & Rsquare\\\\\n",
       "\\hline\n",
       "\t 169667.1 & -56.9729\\\\\n",
       "\\end{tabular}\n"
      ],
      "text/markdown": [
       "\n",
       "| RMSE | Rsquare |\n",
       "|---|---|\n",
       "| 169667.1 | -56.9729 |\n",
       "\n"
      ],
      "text/plain": [
       "  RMSE     Rsquare \n",
       "1 169667.1 -56.9729"
      ]
     },
     "metadata": {},
     "output_type": "display_data"
    }
   ],
   "source": [
    "#lasso regression continued\n",
    "\n",
    "#train lasso model\n",
    "lasso_model <- glmnet(x, y_train, alpha = 1, lambda = lambda_best, standardize = TRUE)\n",
    "\n",
    "#generate predictions\n",
    "predictions_train <- predict(lasso_model, s = lambda_best, newx = x)\n",
    "eval_results(y_train, predictions_train, train)\n",
    "\n",
    "predictions_test <- predict(lasso_model, s = lambda_best, newx = x_test)\n",
    "eval_results(y_test, predictions_test, test)\n",
    "\n",
    "#"
   ]
  },
  {
   "cell_type": "code",
   "execution_count": 28,
   "metadata": {},
   "outputs": [
    {
     "data": {
      "image/png": "[encoded data removed]",
      "text/plain": [
       "Plot with title “Chinook Salmon”"
      ]
     },
     "metadata": {},
     "output_type": "display_data"
    }
   ],
   "source": [
    "#plotting residual plot to see if there is bias in data\n",
    "linear=lm(Harvested~ Seal_pop + Seattle_pop+Population_size, data=train)\n",
    "res=resid(linear)\n",
    "plot(train$Population_size, res, \n",
    "     ylab=\"Residuals\", xlab=\"Harvested\", \n",
    "     main=\"Chinook Salmon\") \n",
    "abline(0, 0) \n",
    "\n",
    "#there is not bias and it is random\n",
    "#therefore, we can use the above models that assume no bias \n",
    "#and normal distribution"
   ]
  },
  {
   "cell_type": "code",
   "execution_count": 29,
   "metadata": {},
   "outputs": [
    {
     "name": "stdout",
     "output_type": "stream",
     "text": [
      "\n",
      "Call:\n",
      "lm(formula = Harvested ~ Seal_pop + Seattle_pop + Population_size, \n",
      "    data = train)\n",
      "\n",
      "Coefficients:\n",
      "    (Intercept)         Seal_pop      Seattle_pop  Population_size  \n",
      "      9.136e+05        3.998e-01       -3.651e-01        1.627e+00  \n",
      "\n"
     ]
    }
   ],
   "source": [
    "print(linear)"
   ]
  },
  {
   "cell_type": "code",
   "execution_count": null,
   "metadata": {},
   "outputs": [],
   "source": []
  }
 ],
 "metadata": {
  "kernelspec": {
   "display_name": "R [conda env:root] *",
   "language": "R",
   "name": "conda-root-r"
  },
  "language_info": {
   "codemirror_mode": "r",
   "file_extension": ".r",
   "mimetype": "text/x-r-source",
   "name": "R",
   "pygments_lexer": "r",
   "version": "3.6.1"
  }
 },
 "nbformat": 4,
 "nbformat_minor": 2
}
