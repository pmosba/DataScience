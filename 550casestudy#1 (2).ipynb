{
 "cells": [
  {
   "cell_type": "code",
   "execution_count": 2,
   "metadata": {},
   "outputs": [],
   "source": [
    "#import necessary packages\n",
    "import pandas as pd\n",
    "import numpy as np\n",
    "import matplotlib.pyplot as plt"
   ]
  },
  {
   "cell_type": "code",
   "execution_count": 10,
   "metadata": {},
   "outputs": [
    {
     "data": {
      "text/html": [
       "<div>\n",
       "<style scoped>\n",
       "    .dataframe tbody tr th:only-of-type {\n",
       "        vertical-align: middle;\n",
       "    }\n",
       "\n",
       "    .dataframe tbody tr th {\n",
       "        vertical-align: top;\n",
       "    }\n",
       "\n",
       "    .dataframe thead th {\n",
       "        text-align: right;\n",
       "    }\n",
       "</style>\n",
       "<table border=\"1\" class=\"dataframe\">\n",
       "  <thead>\n",
       "    <tr style=\"text-align: right;\">\n",
       "      <th></th>\n",
       "      <th>State</th>\n",
       "      <th>White</th>\n",
       "      <th>Black</th>\n",
       "      <th>American Indian</th>\n",
       "      <th>Asian</th>\n",
       "      <th>Hispanic</th>\n",
       "      <th>Other</th>\n",
       "    </tr>\n",
       "  </thead>\n",
       "  <tbody>\n",
       "    <tr>\n",
       "      <th>0</th>\n",
       "      <td>United States</td>\n",
       "      <td>102250</td>\n",
       "      <td>41066.0</td>\n",
       "      <td>1987.0</td>\n",
       "      <td>8188.0</td>\n",
       "      <td>42295.0</td>\n",
       "      <td>3023.0</td>\n",
       "    </tr>\n",
       "    <tr>\n",
       "      <th>1</th>\n",
       "      <td>Alabama</td>\n",
       "      <td>2049</td>\n",
       "      <td>1266.0</td>\n",
       "      <td>NaN</td>\n",
       "      <td>20.0</td>\n",
       "      <td>89.0</td>\n",
       "      <td>NaN</td>\n",
       "    </tr>\n",
       "    <tr>\n",
       "      <th>2</th>\n",
       "      <td>Arizona</td>\n",
       "      <td>2237</td>\n",
       "      <td>176.0</td>\n",
       "      <td>679.0</td>\n",
       "      <td>871741.0</td>\n",
       "      <td>135.0</td>\n",
       "      <td>NaN</td>\n",
       "    </tr>\n",
       "    <tr>\n",
       "      <th>3</th>\n",
       "      <td>Arkansas</td>\n",
       "      <td>850</td>\n",
       "      <td>244.0</td>\n",
       "      <td>NaN</td>\n",
       "      <td>17.0</td>\n",
       "      <td>91.0</td>\n",
       "      <td>55.0</td>\n",
       "    </tr>\n",
       "    <tr>\n",
       "      <th>4</th>\n",
       "      <td>California</td>\n",
       "      <td>4671</td>\n",
       "      <td>1156.0</td>\n",
       "      <td>56.0</td>\n",
       "      <td>1846.0</td>\n",
       "      <td>NaN</td>\n",
       "      <td>NaN</td>\n",
       "    </tr>\n",
       "  </tbody>\n",
       "</table>\n",
       "</div>"
      ],
      "text/plain": [
       "           State   White    Black  American Indian     Asian  Hispanic   Other\n",
       "0  United States  102250  41066.0           1987.0    8188.0   42295.0  3023.0\n",
       "1        Alabama    2049   1266.0              NaN      20.0      89.0     NaN\n",
       "2        Arizona    2237    176.0            679.0  871741.0     135.0     NaN\n",
       "3       Arkansas     850    244.0              NaN      17.0      91.0    55.0\n",
       "4     California    4671   1156.0             56.0    1846.0       NaN     NaN"
      ]
     },
     "execution_count": 10,
     "metadata": {},
     "output_type": "execute_result"
    }
   ],
   "source": [
    "#preview data\n",
    "df.head()"
   ]
  },
  {
   "cell_type": "code",
   "execution_count": 3,
   "metadata": {},
   "outputs": [],
   "source": [
    "#load data into dataframe\n",
    "df=pd.read_excel('racecovid.xlsx')"
   ]
  },
  {
   "cell_type": "code",
   "execution_count": 5,
   "metadata": {},
   "outputs": [
    {
     "name": "stdout",
     "output_type": "stream",
     "text": [
      "dimension of table is: (48, 7)\n"
     ]
    }
   ],
   "source": [
    "#check dimension \n",
    "print('dimension of table is:',df.shape)"
   ]
  },
  {
   "cell_type": "code",
   "execution_count": 7,
   "metadata": {},
   "outputs": [
    {
     "name": "stdout",
     "output_type": "stream",
     "text": [
      "Describe data                White         Black  American Indian          Asian  \\\n",
      "count      48.000000     39.000000        29.000000      40.000000   \n",
      "mean     4148.895833   1947.897436       133.068966   22152.100000   \n",
      "std     14613.780747   6489.427356       384.321195  137782.411579   \n",
      "min        13.000000     12.000000         0.000000       0.000000   \n",
      "25%       405.500000    149.500000        12.000000      21.750000   \n",
      "50%      1390.500000    686.000000        21.000000      56.000000   \n",
      "75%      3058.000000   1757.000000        50.000000     188.500000   \n",
      "max    102250.000000  41066.000000      1987.000000  871741.000000   \n",
      "\n",
      "           Hispanic        Other  \n",
      "count     42.000000    27.000000  \n",
      "mean    1637.714286   146.370370  \n",
      "std     6615.935486   575.610589  \n",
      "min        0.000000     0.000000  \n",
      "25%       89.500000    15.500000  \n",
      "50%      137.000000    30.000000  \n",
      "75%      448.250000    54.500000  \n",
      "max    42295.000000  3023.000000  \n",
      "summarized data          State\n",
      "count       48\n",
      "unique      48\n",
      "top     Hawaii\n",
      "freq         1\n"
     ]
    }
   ],
   "source": [
    "#what type of variables are in the table\n",
    "print('Describe data',df.describe())\n",
    "print('summarized data',df.describe(include=['O']))"
   ]
  },
  {
   "cell_type": "code",
   "execution_count": 8,
   "metadata": {},
   "outputs": [
    {
     "name": "stdout",
     "output_type": "stream",
     "text": [
      "48\n"
     ]
    }
   ],
   "source": [
    "#display length of dataset\n",
    "print(len(df))"
   ]
  },
  {
   "cell_type": "code",
   "execution_count": 11,
   "metadata": {},
   "outputs": [],
   "source": [
    "#select just us data\n",
    "us=df.loc[df.State=='United States']"
   ]
  },
  {
   "cell_type": "code",
   "execution_count": 12,
   "metadata": {},
   "outputs": [
    {
     "data": {
      "text/plain": [
       "<matplotlib.axes._subplots.AxesSubplot at 0x11aa4f850>"
      ]
     },
     "execution_count": 12,
     "metadata": {},
     "output_type": "execute_result"
    },
    {
     "data": {
      "image/png": "[encoded data removed]",
      "text/plain": [
       "<Figure size 432x288 with 1 Axes>"
      ]
     },
     "metadata": {
      "needs_background": "light"
     },
     "output_type": "display_data"
    }
   ],
   "source": [
    "#show histogram of us data\n",
    "us.plot(kind='bar')"
   ]
  },
  {
   "cell_type": "code",
   "execution_count": null,
   "metadata": {},
   "outputs": [],
   "source": []
  }
 ],
 "metadata": {
  "kernelspec": {
   "display_name": "Python 3",
   "language": "python",
   "name": "python3"
  },
  "language_info": {
   "codemirror_mode": {
    "name": "ipython",
    "version": 3
   },
   "file_extension": ".py",
   "mimetype": "text/x-python",
   "name": "python",
   "nbconvert_exporter": "python",
   "pygments_lexer": "ipython3",
   "version": "3.7.5"
  }
 },
 "nbformat": 4,
 "nbformat_minor": 2
}
