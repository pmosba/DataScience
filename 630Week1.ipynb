{
 "cells": [
  {
   "cell_type": "code",
   "execution_count": 16,
   "metadata": {},
   "outputs": [
    {
     "name": "stdout",
     "output_type": "stream",
     "text": [
      "  Unnamed: 0  Unemployment  Employment\n",
      "0    January          5892      158714\n",
      "1   February          5785      158759\n",
      "2      March          7140      155772\n",
      "3      April         23078      133403\n",
      "4        May         20985      137242\n",
      "5       June         17750      142182\n",
      "6       July         16338      143532\n",
      "7     August         13550      147288\n"
     ]
    }
   ],
   "source": [
    "import pandas as pd\n",
    "import matplotlib.pyplot as plt  \n",
    "df=pd.read_excel('2Employment-Unemployment2020.xlsx')\n",
    "print(df)"
   ]
  },
  {
   "cell_type": "code",
   "execution_count": 17,
   "metadata": {},
   "outputs": [
    {
     "data": {
      "text/plain": [
       "count        8.000000\n",
       "mean     13814.750000\n",
       "std       6875.863598\n",
       "min       5785.000000\n",
       "25%       6828.000000\n",
       "50%      14944.000000\n",
       "75%      18558.750000\n",
       "max      23078.000000\n",
       "Name: Unemployment, dtype: float64"
      ]
     },
     "execution_count": 17,
     "metadata": {},
     "output_type": "execute_result"
    }
   ],
   "source": [
    "df['Unemployment'].describe()"
   ]
  },
  {
   "cell_type": "code",
   "execution_count": 18,
   "metadata": {},
   "outputs": [
    {
     "data": {
      "text/plain": [
       "count         8.000000\n",
       "mean     147111.500000\n",
       "std        9767.003254\n",
       "min      133403.000000\n",
       "25%      140947.000000\n",
       "50%      145410.000000\n",
       "75%      156507.500000\n",
       "max      158759.000000\n",
       "Name: Employment, dtype: float64"
      ]
     },
     "execution_count": 18,
     "metadata": {},
     "output_type": "execute_result"
    }
   ],
   "source": [
    "df['Employment'].describe()"
   ]
  },
  {
   "cell_type": "code",
   "execution_count": 19,
   "metadata": {},
   "outputs": [
    {
     "data": {
      "text/plain": [
       "<matplotlib.axes._subplots.AxesSubplot at 0x115c3fe50>"
      ]
     },
     "execution_count": 19,
     "metadata": {},
     "output_type": "execute_result"
    },
    {
     "data": {
      "image/png": "[encoded data removed]",
      "text/plain": [
       "<Figure size 432x288 with 1 Axes>"
      ]
     },
     "metadata": {
      "needs_background": "light"
     },
     "output_type": "display_data"
    }
   ],
   "source": [
    "df.boxplot()"
   ]
  },
  {
   "cell_type": "code",
   "execution_count": 20,
   "metadata": {},
   "outputs": [
    {
     "data": {
      "text/plain": [
       "array([[<matplotlib.axes._subplots.AxesSubplot object at 0x115cdf050>,\n",
       "        <matplotlib.axes._subplots.AxesSubplot object at 0x115d11bd0>]],\n",
       "      dtype=object)"
      ]
     },
     "execution_count": 20,
     "metadata": {},
     "output_type": "execute_result"
    },
    {
     "data": {
      "image/png": "[encoded data removed]",
      "text/plain": [
       "<Figure size 432x288 with 2 Axes>"
      ]
     },
     "metadata": {
      "needs_background": "light"
     },
     "output_type": "display_data"
    }
   ],
   "source": [
    "df.hist()"
   ]
  },
  {
   "cell_type": "code",
   "execution_count": 21,
   "metadata": {},
   "outputs": [
    {
     "data": {
      "text/html": [
       "<div>\n",
       "<style scoped>\n",
       "    .dataframe tbody tr th:only-of-type {\n",
       "        vertical-align: middle;\n",
       "    }\n",
       "\n",
       "    .dataframe tbody tr th {\n",
       "        vertical-align: top;\n",
       "    }\n",
       "\n",
       "    .dataframe thead th {\n",
       "        text-align: right;\n",
       "    }\n",
       "</style>\n",
       "<table border=\"1\" class=\"dataframe\">\n",
       "  <thead>\n",
       "    <tr style=\"text-align: right;\">\n",
       "      <th></th>\n",
       "      <th>Unemployment</th>\n",
       "      <th>Employment</th>\n",
       "    </tr>\n",
       "  </thead>\n",
       "  <tbody>\n",
       "    <tr>\n",
       "      <th>Unemployment</th>\n",
       "      <td>1.000000</td>\n",
       "      <td>-0.998703</td>\n",
       "    </tr>\n",
       "    <tr>\n",
       "      <th>Employment</th>\n",
       "      <td>-0.998703</td>\n",
       "      <td>1.000000</td>\n",
       "    </tr>\n",
       "  </tbody>\n",
       "</table>\n",
       "</div>"
      ],
      "text/plain": [
       "              Unemployment  Employment\n",
       "Unemployment      1.000000   -0.998703\n",
       "Employment       -0.998703    1.000000"
      ]
     },
     "execution_count": 21,
     "metadata": {},
     "output_type": "execute_result"
    }
   ],
   "source": [
    "df.corr()"
   ]
  },
  {
   "cell_type": "code",
   "execution_count": 27,
   "metadata": {},
   "outputs": [
    {
     "name": "stdout",
     "output_type": "stream",
     "text": [
      "        columns datatype\n",
      "0    Unnamed: 0   object\n",
      "1  Unemployment    int64\n",
      "2    Employment    int64\n"
     ]
    }
   ],
   "source": [
    "columns_summary_df = df.dtypes.reset_index()\n",
    "columns_summary_df.columns = ['columns', 'datatype']\n",
    "print(columns_summary_df)"
   ]
  },
  {
   "cell_type": "code",
   "execution_count": null,
   "metadata": {},
   "outputs": [],
   "source": [
    "#both variables are integer data types. They each consist of 8 values, which represent the unemployment\n",
    "#and employment numbers for each month in 2020 so far. There is a strongly negative correlation\n",
    "#between the variables, meaning that as one goes up, the other decreases. This makes sense since\n",
    "#we are looking at both unemployment and employment. We can also see that despite unemployment\n",
    "#numbers being higher than usual, they are still much lower than the amount of people who are\n",
    "#currently employed. We can see in the histograms that the unemployment is skewed to the left\n",
    "#since the box is closer to the left end, whereas unemployment is skewed to the right. \n",
    "#The mean of unemployment is on the higher end of the data, however since it is near the top \n",
    "#end of the box, and the mean of employment is on the lower end of the data, since it is \n",
    "#near the bottom end of the box. "
   ]
  }
 ],
 "metadata": {
  "kernelspec": {
   "display_name": "Python 3",
   "language": "python",
   "name": "python3"
  },
  "language_info": {
   "codemirror_mode": {
    "name": "ipython",
    "version": 3
   },
   "file_extension": ".py",
   "mimetype": "text/x-python",
   "name": "python",
   "nbconvert_exporter": "python",
   "pygments_lexer": "ipython3",
   "version": "3.7.5"
  }
 },
 "nbformat": 4,
 "nbformat_minor": 2
}
